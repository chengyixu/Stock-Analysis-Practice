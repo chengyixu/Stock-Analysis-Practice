{
 "cells": [
  {
   "cell_type": "code",
   "execution_count": null,
   "id": "7bccf69b",
   "metadata": {},
   "outputs": [],
   "source": [
    "pip install otter-grader\n"
   ]
  },
  {
   "cell_type": "code",
   "execution_count": null,
   "id": "9a214100",
   "metadata": {
    "deletable": false,
    "editable": false
   },
   "outputs": [],
   "source": [
    "# Initialize Otter\n",
    "import otter\n",
    "grader = otter.Notebook(\"Exam2_Gradescope.ipynb\")"
   ]
  },
  {
   "cell_type": "markdown",
   "id": "dd9fdc5d",
   "metadata": {},
   "source": [
    "## Exam 2"
   ]
  },
  {
   "cell_type": "markdown",
   "id": "b133cb51",
   "metadata": {},
   "source": [
    "**Northeastern University Honor Code**\\\n",
    "On my honor, I pledge to uphold the values of honesty, integrity, and respect that are expected of me as a Northeastern student."
   ]
  },
  {
   "cell_type": "markdown",
   "id": "7f2afedd",
   "metadata": {},
   "source": [
    "**Signature: (Please sign here)**"
   ]
  },
  {
   "cell_type": "markdown",
   "id": "525809ea",
   "metadata": {},
   "source": [
    "#### Import the Necessary Libraries"
   ]
  },
  {
   "cell_type": "code",
   "execution_count": null,
   "id": "c3ebe0e5",
   "metadata": {},
   "outputs": [],
   "source": [
    "import numpy as np\n",
    "import pandas as pd\n",
    "import datetime as dt\n",
    "import yfinance as yf"
   ]
  },
  {
   "cell_type": "markdown",
   "id": "e700992e",
   "metadata": {
    "tags": []
   },
   "source": [
    "#### 1. Create a DataFrame named **fin_data** by reading in only the columns labeled 'DATE', 'TICKER', 'PRC', 'CFACPR' and 'SHROUT' from the file entitled exam2_data.csv. Set the column labeled 'DATE' as the index. In addition, create two new columns: a) 'ADJ_PRC' to store the adjusted closing price, defined as PRC/CFACPR, and b) 'MKTCAP' to store the market capitalization, defined as PRC x SHROUT. Subsequently, permanently remove PRC and CFACPR from the DataFrame.\n",
    "The file \"exam2_data.csv\" contains the following columns:\n",
    "   * DATE\n",
    "   * TICKER\n",
    "   * PRC - The closing price\n",
    "   * SHROUT - The number of shares outstanding\n",
    "   * CFACPR - Cumulative factor to adjust the closing price\n",
    "   * SPRTRN - The daily return on the S&P500 index\n",
    "\n",
    "_Points:_ 10"
   ]
  },
  {
   "cell_type": "code",
   "execution_count": null,
   "id": "515834e2",
   "metadata": {
    "scrolled": true,
    "tags": []
   },
   "outputs": [],
   "source": [
    "# Read the CSV file and select the required columns\n",
    "fin_data = pd.read_csv(\"exam2_data.csv\", usecols=[\"DATE\", \"TICKER\", \"PRC\", \"CFACPR\", \"SHROUT\"])\n",
    "\n",
    "# Set the 'DATE' column as the index\n",
    "fin_data.set_index(\"DATE\", inplace=True)\n",
    "\n",
    "# Create the new columns 'ADJ_PRC' and 'MKTCAP'\n",
    "fin_data[\"ADJ_PRC\"] = fin_data[\"PRC\"] / fin_data[\"CFACPR\"]\n",
    "fin_data[\"MKTCAP\"] = fin_data[\"PRC\"] * fin_data[\"SHROUT\"]\n",
    "\n",
    "# Remove the 'PRC' and 'CFACPR' columns\n",
    "fin_data.drop(columns=[\"PRC\", \"CFACPR\"], inplace=True)\n",
    "\n",
    "# Display the DataFrame\n",
    "print(fin_data)"
   ]
  },
  {
   "cell_type": "markdown",
   "id": "095c62b9",
   "metadata": {},
   "source": [
    "---"
   ]
  },
  {
   "cell_type": "markdown",
   "id": "f288c258",
   "metadata": {
    "tags": []
   },
   "source": [
    "#### Use your NEU ID # in the code below. There will be a significant point discount for failing to do so."
   ]
  },
  {
   "cell_type": "code",
   "execution_count": null,
   "id": "5fb10a2c",
   "metadata": {},
   "outputs": [],
   "source": [
    "params = {'NEU_ID': 100 \n",
    "          #Replace 100 with your actual NEU ID#\n",
    "         }"
   ]
  },
  {
   "cell_type": "code",
   "execution_count": null,
   "id": "feec9be8",
   "metadata": {
    "scrolled": true
   },
   "outputs": [],
   "source": [
    "np.random.seed(params['NEU_ID'])\n",
    "all_tickers = ['AAPL', 'AXP', 'BA', 'BAC', 'C', 'CAT', 'CSCO', 'CVX', 'DIS', 'GS', 'HD', 'IBM', 'INTC', 'JNJ', 'JPM', 'KO',\n",
    "            'MCD', 'MMM', 'MRK', 'MSFT', 'NKE', 'PFE', 'PG', 'TRV', 'T', 'UNH', 'V', 'VZ', 'WMT', 'XOM']\n",
    "\n",
    "stock_list = sorted(np.random.choice(all_tickers,5,replace=False))\n",
    "\n",
    "print(f'These are the tickers of the five stocks assigned to you: {\" \".join(stock_list)}. They are stored in a \\\n",
    "variable called stock_list.')"
   ]
  },
  {
   "cell_type": "markdown",
   "id": "c79d5e65",
   "metadata": {},
   "source": [
    "### PART 1"
   ]
  },
  {
   "cell_type": "markdown",
   "id": "64c92909",
   "metadata": {},
   "source": [
    "#### 2. Use the DataFrame fin_data to create another DataFrame named mktcap to store the daily market capitalization for the stocks you were assigned. Each stock should have its own column in the DataFrame, labeled as the stock's ticker.\n",
    "\n",
    "_Points:_ 9"
   ]
  },
  {
   "cell_type": "code",
   "execution_count": null,
   "id": "9b331c56",
   "metadata": {
    "scrolled": true,
    "tags": []
   },
   "outputs": [],
   "source": [
    "#Filter fin_data for the stocks in stock_list\n",
    "\n",
    "filtered_fin_data = fin_data[fin_data['TICKER'].isin(stock_list)]\n",
    "\n",
    "#Pivot the filtered data to create a DataFrame with stock tickers as columns and market capitalization values\n",
    "\n",
    "mktcap = filtered_fin_data.pivot_table(values='MKTCAP', columns='TICKER', index=filtered_fin_data.index)\n",
    "\n",
    "#Display the mktcap DataFrame\n",
    "\n",
    "print(mktcap)"
   ]
  },
  {
   "cell_type": "markdown",
   "id": "c1491dab",
   "metadata": {},
   "source": [
    "---"
   ]
  },
  {
   "cell_type": "markdown",
   "id": "1aafa53f",
   "metadata": {},
   "source": [
    "#### 3. Use the DataFrame mktcap to create another DataFrame named **avg_mktcap** that contains each stock's average daily market capitalization in the month of May of each year. The DataFrame should have 5 columns, one for each stock, and 5 rows, one for each year in the sample.\n",
    "\n",
    "_Points:_ 7"
   ]
  },
  {
   "cell_type": "code",
   "execution_count": null,
   "id": "4c4c64d5",
   "metadata": {
    "scrolled": true,
    "tags": []
   },
   "outputs": [],
   "source": [
    "# Convert the index of mktcap DataFrame to datetime format\n",
    "mktcap.index = pd.to_datetime(mktcap.index)\n",
    "\n",
    "# Filter the data for the month of May\n",
    "may_data = mktcap[mktcap.index.month == 5]\n",
    "\n",
    "# Group the data by year and calculate the mean market capitalization for each stock\n",
    "avg_mktcap = may_data.groupby(may_data.index.year).mean()\n",
    "\n",
    "# Display the avg_mktcap DataFrame\n",
    "print(avg_mktcap)"
   ]
  },
  {
   "cell_type": "markdown",
   "id": "43d17125",
   "metadata": {},
   "source": [
    "---"
   ]
  },
  {
   "cell_type": "markdown",
   "id": "4da001f5",
   "metadata": {
    "tags": []
   },
   "source": [
    "#### 4. Use the DataFrame avg_mktcap to find the stock with largest average daily market capitalization in the month of May in 2021? What was the magnitude? Store the two values in two variables labeled **stock_ans4** and **cap_ans4**.\n",
    "\n",
    "_Points:_ 7"
   ]
  },
  {
   "cell_type": "code",
   "execution_count": null,
   "id": "3c26eb54",
   "metadata": {
    "scrolled": true,
    "tags": []
   },
   "outputs": [],
   "source": [
    "# Find the stock with the largest average daily market capitalization in May 2021\n",
    "stock_ans4 = avg_mktcap.loc[2021].idxmax()\n",
    "cap_ans4 = avg_mktcap.loc[2021].max()\n",
    "\n",
    "print(f\"The stock with the largest average daily market capitalization in May 2021 is {stock_ans4} with a magnitude of {cap_ans4}.\")\n"
   ]
  },
  {
   "cell_type": "markdown",
   "id": "41bcffd1",
   "metadata": {},
   "source": [
    "---"
   ]
  },
  {
   "cell_type": "markdown",
   "id": "df67479b",
   "metadata": {},
   "source": [
    "### PART 2"
   ]
  },
  {
   "cell_type": "markdown",
   "id": "c78b7b37",
   "metadata": {},
   "source": [
    "#### 5. Use the DataFrame fin_data to create another DataFrame named returns to store the simple daily return for the stocks you were assigned. Each stock should have its own column in the DataFrame, labeled as the stock's ticker.\n",
    "\n",
    "_Points:_ 9"
   ]
  },
  {
   "cell_type": "code",
   "execution_count": null,
   "id": "f0452c9c",
   "metadata": {
    "scrolled": true,
    "tags": []
   },
   "outputs": [],
   "source": [
    "# Filter fin_data for the stocks in stock_list\n",
    "filtered_fin_data = fin_data[fin_data['TICKER'].isin(stock_list)]\n",
    "\n",
    "# Pivot the filtered data to create a DataFrame with stock tickers as columns and adjusted closing prices\n",
    "adj_price_data = filtered_fin_data.pivot_table(values='ADJ_PRC', columns='TICKER', index=filtered_fin_data.index)\n",
    "\n",
    "# Calculate the simple daily return for each stock\n",
    "returns = adj_price_data.pct_change()\n",
    "\n",
    "# Display the returns DataFrame\n",
    "print(returns)\n"
   ]
  },
  {
   "cell_type": "markdown",
   "id": "ff2ac713",
   "metadata": {},
   "source": [
    "---"
   ]
  },
  {
   "cell_type": "markdown",
   "id": "f4247f4e",
   "metadata": {},
   "source": [
    "#### 6. What is number of days the third stock you were assigned (third ticker in stock_list) had a negative return during the last three years in the sample period? Store the answer in a variable called **ans6**.\n",
    "\n",
    "_Points:_ 7"
   ]
  },
  {
   "cell_type": "code",
   "execution_count": null,
   "id": "ee71472a",
   "metadata": {
    "tags": []
   },
   "outputs": [],
   "source": [
    "# Get the third stock's ticker from stock_list\n",
    "returns.index = pd.to_datetime(returns.index)\n",
    "\n",
    "third_stock = stock_list[2]\n",
    "\n",
    "# Filter the returns DataFrame for the last three years in the sample period\n",
    "last_three_years = returns[returns.index.year >= (returns.index.year.max() - 2)]\n",
    "\n",
    "# Count the number of days with a negative return for the third stock\n",
    "ans6 = (last_three_years[third_stock] < 0).sum()\n",
    "\n",
    "print(f\"The third stock ({third_stock}) had a negative return on {ans6} days during the last three years in the sample period.\")\n"
   ]
  },
  {
   "cell_type": "markdown",
   "id": "67f9ba52",
   "metadata": {},
   "source": [
    "---"
   ]
  },
  {
   "cell_type": "markdown",
   "id": "fff05624",
   "metadata": {},
   "source": [
    "#### 7. Create another DataFrame named **returns_mon** to store the monthly simple returns for each stock in the sample. The DataFrame should have five columns, one for each stock in the sample.\n",
    "\n",
    "_Points:_ 7"
   ]
  },
  {
   "cell_type": "code",
   "execution_count": null,
   "id": "10cd1559",
   "metadata": {
    "tags": []
   },
   "outputs": [],
   "source": [
    "returns_mon = returns.resample('M').apply(lambda x: (x + 1).prod() - 1)"
   ]
  },
  {
   "cell_type": "markdown",
   "id": "60908212",
   "metadata": {},
   "source": [
    "---"
   ]
  },
  {
   "cell_type": "markdown",
   "id": "984cb058",
   "metadata": {},
   "source": [
    "#### 8. Create a new Pandas DataFrame named **ans8** to store the average monthly return for each stock during the second quarter of 2022. The shape of the DataFrame should be either (5,1) or (1,5).\n",
    "\n",
    "_Points:_ 7"
   ]
  },
  {
   "cell_type": "code",
   "execution_count": null,
   "id": "debc7375",
   "metadata": {
    "tags": []
   },
   "outputs": [],
   "source": [
    "returns_q2_2022 = returns_mon[(returns_mon.index.year == 2022) & (returns_mon.index.month >= 4) & (returns_mon.index.month <= 6)]\n",
    "ans8 = returns_q2_2022.mean().to_frame().T"
   ]
  },
  {
   "cell_type": "markdown",
   "id": "7124166a",
   "metadata": {},
   "source": [
    "---"
   ]
  },
  {
   "cell_type": "markdown",
   "id": "0a6b8eb4",
   "metadata": {},
   "source": [
    "#### 9. Which stock had the highest total return over the sample period January 2018 - February 2020? What was the return? Store the two values in two variables labeled **stock_ans9** and **ret_ans9**.\n",
    "\n",
    "_Points:_ 7"
   ]
  },
  {
   "cell_type": "code",
   "execution_count": null,
   "id": "f4037e09",
   "metadata": {
    "tags": []
   },
   "outputs": [],
   "source": [
    "# Filter the returns DataFrame for the sample period January 2018 - February 2020\n",
    "sample_period = returns[(returns.index.year >= 2018) & (returns.index.year <= 2020) & ~((returns.index.year == 2020) & (returns.index.month > 2))]\n",
    "\n",
    "# Calculate the total return for each stock during that time\n",
    "total_returns = (sample_period + 1).cumprod().iloc[-1] - 1\n",
    "\n",
    "# Find the stock with the highest total return and its magnitude\n",
    "stock_ans9 = total_returns.idxmax()\n",
    "ret_ans9 = total_returns.max()\n",
    "\n",
    "print(f\"The stock with the highest total return during January 2018 - February 2020 is {stock_ans9} with a return of {ret_ans9}.\")"
   ]
  },
  {
   "cell_type": "markdown",
   "id": "ec36bdbf",
   "metadata": {},
   "source": [
    "---"
   ]
  },
  {
   "cell_type": "markdown",
   "id": "a3480e50",
   "metadata": {
    "tags": []
   },
   "source": [
    "### PART 3"
   ]
  },
  {
   "cell_type": "markdown",
   "id": "4304810e",
   "metadata": {},
   "source": [
    "#### 10. Create a DataFrame named **sp_data** by reading in the columns labeled 'DATE' and 'SPRTRN' from the file entitled exam2_data.csv. The column labeled 'SPRTRN' contains the daily return for the S&P500 index. Set the column labeled 'DATE' as the index. Make sure the DataFrame does not have any duplicate observations. \n",
    "\n",
    "_Points:_ 9"
   ]
  },
  {
   "cell_type": "code",
   "execution_count": null,
   "id": "8d0dedd5",
   "metadata": {
    "scrolled": true,
    "tags": []
   },
   "outputs": [],
   "source": [
    "sp_data = pd.read_csv(\"exam2_data.csv\", usecols=[\"DATE\", \"SPRTRN\"], index_col=\"DATE\", parse_dates=True)\n",
    "sp_data = sp_data[~sp_data.index.duplicated(keep='first')]"
   ]
  },
  {
   "cell_type": "markdown",
   "id": "c97a0f61",
   "metadata": {},
   "source": [
    "---"
   ]
  },
  {
   "cell_type": "markdown",
   "id": "605943a1",
   "metadata": {
    "tags": []
   },
   "source": [
    "#### 11. Create a DataFrame called djia_data to store the simple daily return for the Dow Jones Index, computed using the Adjusted Closing Price from Yahoo!Finance. The sample period is January 1st, 2018 to December 31st, 2022. The ticker for the index is ^DJI. The DataFrame should have an index named 'DATE', one column named 'DJIA_RET' and no missing values.\n",
    "\n",
    "_Points:_ 9"
   ]
  },
  {
   "cell_type": "code",
   "execution_count": null,
   "id": "eac8e6a7",
   "metadata": {
    "scrolled": true,
    "tags": []
   },
   "outputs": [],
   "source": [
    "import yfinance as yf\n",
    "\n",
    "djia = yf.download(\"^DJI\", start=\"2018-01-01\", end=\"2022-12-31\")\n",
    "djia_data = djia['Adj Close'].pct_change().dropna().to_frame()\n",
    "djia_data.columns = ['DJIA_RET']\n",
    "djia_data.index.name = 'DATE'"
   ]
  },
  {
   "cell_type": "markdown",
   "id": "0ae8a67d",
   "metadata": {},
   "source": [
    "---"
   ]
  },
  {
   "cell_type": "markdown",
   "id": "dc03fefe",
   "metadata": {},
   "source": [
    "#### 12. Create a new DataFrame named index_data by inner merging on 'DATE' the DataFrame sp_data with the DataFrame djia_data.\n",
    "\n",
    "_Points:_ 5"
   ]
  },
  {
   "cell_type": "code",
   "execution_count": null,
   "id": "6a7ada84",
   "metadata": {
    "tags": []
   },
   "outputs": [],
   "source": [
    "index_data = sp_data.merge(djia_data, left_index=True, right_index=True)"
   ]
  },
  {
   "cell_type": "markdown",
   "id": "5fdf58a2",
   "metadata": {},
   "source": [
    "---"
   ]
  },
  {
   "cell_type": "markdown",
   "id": "2ddd027e",
   "metadata": {},
   "source": [
    "#### 13. Create a Pandas DataFrame named **ans13** to store the annual correlation coefficients between the daily returns on the S&P500 and Dow Jones Index. The shape of the DataFrame should be either (5,1) or (1,5).\n",
    "\n",
    "_Points:_ 9"
   ]
  },
  {
   "cell_type": "code",
   "execution_count": null,
   "id": "d7179db4",
   "metadata": {
    "tags": []
   },
   "outputs": [],
   "source": [
    "def compute_corr(x):\n",
    "    return x['SPRTRN'].corr(x['DJIA_RET'])\n",
    "\n",
    "annual_corr = index_data.resample('Y').apply(compute_corr).to_frame().T\n",
    "annual_corr.columns = annual_corr.columns.year\n",
    "\n",
    "# Display the ans13 DataFrame\n",
    "print(annual_corr)\n"
   ]
  },
  {
   "cell_type": "markdown",
   "id": "bc76d393",
   "metadata": {},
   "source": [
    "---"
   ]
  },
  {
   "cell_type": "code",
   "execution_count": null,
   "id": "a59338b1",
   "metadata": {},
   "outputs": [],
   "source": []
  },
  {
   "cell_type": "markdown",
   "id": "29a5fe56",
   "metadata": {
    "deletable": false,
    "editable": false
   },
   "source": [
    "## Submission\n",
    "\n",
    "Make sure you have run all cells in your notebook in order before running the cell below, so that all images/graphs appear in the output. The cell below will generate a zip file for you to submit. **Please save before exporting!**"
   ]
  },
  {
   "cell_type": "code",
   "execution_count": null,
   "id": "42b8e4d8",
   "metadata": {
    "deletable": false,
    "editable": false
   },
   "outputs": [],
   "source": [
    "# Save your notebook first, then run this cell to export your submission.\n",
    "grader.export(pdf=False, run_tests=True)"
   ]
  },
  {
   "cell_type": "markdown",
   "id": "bc333d52",
   "metadata": {},
   "source": [
    " "
   ]
  }
 ],
 "metadata": {
  "kernelspec": {
   "display_name": "Python 3 (ipykernel)",
   "language": "python",
   "name": "python3"
  },
  "language_info": {
   "codemirror_mode": {
    "name": "ipython",
    "version": 3
   },
   "file_extension": ".py",
   "mimetype": "text/x-python",
   "name": "python",
   "nbconvert_exporter": "python",
   "pygments_lexer": "ipython3",
   "version": "3.11.2"
  },
  "otter": {
   "OK_FORMAT": true,
   "tests": {
    "q1": {
     "name": "q1",
     "points": 10,
     "suites": [
      {
       "cases": [],
       "scored": true,
       "setup": "",
       "teardown": "",
       "type": "doctest"
      }
     ]
    },
    "q10": {
     "name": "q10",
     "points": 9,
     "suites": [
      {
       "cases": [],
       "scored": true,
       "setup": "",
       "teardown": "",
       "type": "doctest"
      }
     ]
    },
    "q11": {
     "name": "q11",
     "points": 9,
     "suites": [
      {
       "cases": [],
       "scored": true,
       "setup": "",
       "teardown": "",
       "type": "doctest"
      }
     ]
    },
    "q12": {
     "name": "q12",
     "points": 5,
     "suites": [
      {
       "cases": [],
       "scored": true,
       "setup": "",
       "teardown": "",
       "type": "doctest"
      }
     ]
    },
    "q13": {
     "name": "q13",
     "points": 9,
     "suites": [
      {
       "cases": [],
       "scored": true,
       "setup": "",
       "teardown": "",
       "type": "doctest"
      }
     ]
    },
    "q2": {
     "name": "q2",
     "points": 9,
     "suites": [
      {
       "cases": [],
       "scored": true,
       "setup": "",
       "teardown": "",
       "type": "doctest"
      }
     ]
    },
    "q3": {
     "name": "q3",
     "points": 7,
     "suites": [
      {
       "cases": [],
       "scored": true,
       "setup": "",
       "teardown": "",
       "type": "doctest"
      }
     ]
    },
    "q4": {
     "name": "q4",
     "points": 7,
     "suites": [
      {
       "cases": [],
       "scored": true,
       "setup": "",
       "teardown": "",
       "type": "doctest"
      }
     ]
    },
    "q5": {
     "name": "q5",
     "points": 9,
     "suites": [
      {
       "cases": [],
       "scored": true,
       "setup": "",
       "teardown": "",
       "type": "doctest"
      }
     ]
    },
    "q6": {
     "name": "q6",
     "points": 7,
     "suites": [
      {
       "cases": [],
       "scored": true,
       "setup": "",
       "teardown": "",
       "type": "doctest"
      }
     ]
    },
    "q7": {
     "name": "q7",
     "points": 7,
     "suites": [
      {
       "cases": [],
       "scored": true,
       "setup": "",
       "teardown": "",
       "type": "doctest"
      }
     ]
    },
    "q8": {
     "name": "q8",
     "points": 7,
     "suites": [
      {
       "cases": [],
       "scored": true,
       "setup": "",
       "teardown": "",
       "type": "doctest"
      }
     ]
    },
    "q9": {
     "name": "q9",
     "points": 7,
     "suites": [
      {
       "cases": [],
       "scored": true,
       "setup": "",
       "teardown": "",
       "type": "doctest"
      }
     ]
    }
   }
  }
 },
 "nbformat": 4,
 "nbformat_minor": 5
}
