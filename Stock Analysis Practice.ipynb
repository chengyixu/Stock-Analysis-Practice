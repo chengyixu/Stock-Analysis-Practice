{
 "cells": [
  {
   "attachments": {},
   "cell_type": "markdown",
   "id": "e2b4e6fc",
   "metadata": {},
   "source": [
    "## Final Exam"
   ]
  },
  {
   "attachments": {},
   "cell_type": "markdown",
   "id": "db0ad86e",
   "metadata": {},
   "source": [
    "**Northeastern University Honor Code**\\\n",
    "On my honor, I pledge to uphold the values of honesty, integrity, and respect that are expected of me as a Northeastern student."
   ]
  },
  {
   "attachments": {},
   "cell_type": "markdown",
   "id": "88ef43b2",
   "metadata": {},
   "source": [
    "**Signature: (Please sign here)**"
   ]
  },
  {
   "attachments": {},
   "cell_type": "markdown",
   "id": "ff39f0aa",
   "metadata": {},
   "source": [
    "## Instructions\n",
    "\n",
    "1. Do not rename the notebook. If you do, the local and Gradescope autograders will not work.\n",
    "1. Name the variables exactly as requested. Python is case-sensitive, so `df` and `DF` are different variables.\n",
    "1. After you answer a question, you may run its public tests.\n",
    "1. ***The public tests ensure your answers are formatted correctly but do not ensure your answers are correct.***\n",
    "1. Gradescope runs hidden tests in addition to the public tests but does not reveal public test results until after the due date. Your grade will be \"~/100\" until after the due date."
   ]
  },
  {
   "attachments": {},
   "cell_type": "markdown",
   "id": "7354e229",
   "metadata": {},
   "source": [
    "#### Import the Necessary Libraries"
   ]
  },
  {
   "cell_type": "code",
   "execution_count": 103,
   "id": "f77fb369",
   "metadata": {
    "scrolled": true
   },
   "outputs": [],
   "source": [
    "import numpy as np\n",
    "import pandas as pd\n",
    "import datetime as dt\n",
    "import yfinance as yf\n",
    "import pandas_datareader.data as web\n",
    "import matplotlib.pyplot as plt\n",
    "%matplotlib inline\n",
    "from scipy.optimize import minimize\n",
    "from scipy import stats\n",
    "import statsmodels.api as sm"
   ]
  },
  {
   "cell_type": "code",
   "execution_count": 104,
   "id": "5b35a513",
   "metadata": {},
   "outputs": [],
   "source": [
    "asgnd_seed = 11281811"
   ]
  },
  {
   "attachments": {},
   "cell_type": "markdown",
   "id": "ab7bacef",
   "metadata": {},
   "source": [
    "---"
   ]
  },
  {
   "attachments": {},
   "cell_type": "markdown",
   "id": "c48e2091",
   "metadata": {},
   "source": [
    "### PART 1"
   ]
  },
  {
   "attachments": {},
   "cell_type": "markdown",
   "id": "b8ab9e08",
   "metadata": {
    "tags": []
   },
   "source": [
    "#### Please run the code in the cell below. You will be assigned two (out of four) indexes, whose tickers will be stored in a variable called index_list."
   ]
  },
  {
   "cell_type": "code",
   "execution_count": 105,
   "id": "7c5dce73",
   "metadata": {
    "scrolled": true,
    "tags": []
   },
   "outputs": [
    {
     "data": {
      "text/plain": [
       "['^DJI', '^IXIC']"
      ]
     },
     "execution_count": 105,
     "metadata": {},
     "output_type": "execute_result"
    }
   ],
   "source": [
    "# Index Selection\n",
    "\n",
    "# ^GSPC is the ticker for the S&P 500 index\n",
    "# ^DJI is the ticker for the Dow Jones index\n",
    "# ^IXIC is the ticker for the Nasdaq Composite index \n",
    "# ^RUT is the ticker for the Russell 2000 index \n",
    "\n",
    "np.random.seed(asgnd_seed)\n",
    "indexes = ['^GSPC', '^DJI', '^IXIC', '^RUT']\n",
    "index_list = sorted(np.random.choice(indexes,2,replace=False))\n",
    "index_list"
   ]
  },
  {
   "attachments": {},
   "cell_type": "markdown",
   "id": "bbdcf699",
   "metadata": {},
   "source": [
    "#### 1. Create a DataFrame named `index_mon` to store the monthly simple returns for the two indexes you were assigned. The sample period is January 1st, 2017 - October 31st, 2021. Label the columns as 'ticker', where ticker represents the trading symbol of the index whose returns are stored in that column. Drop any observations with missing values.\n",
    "\n",
    "_Points:_ 5"
   ]
  },
  {
   "cell_type": "code",
   "execution_count": 106,
   "id": "e2804285",
   "metadata": {
    "scrolled": true,
    "tags": []
   },
   "outputs": [
    {
     "name": "stdout",
     "output_type": "stream",
     "text": [
      "[*********************100%***********************]  1 of 1 completed\n",
      "[*********************100%***********************]  1 of 1 completed\n"
     ]
    }
   ],
   "source": [
    "import numpy as np\n",
    "import pandas as pd\n",
    "import yfinance as yf\n",
    "\n",
    "# Replace 'index1' and 'index2' with the tickers assigned to you\n",
    "index1 = '^DJI'\n",
    "index2 = '^IXIC'\n",
    "# Download historical price data\n",
    "start_date = pd.to_datetime('2016-12-01')\n",
    "end_date = pd.to_datetime('2021-10-31')\n",
    "index1_data = yf.download(index1, start=start_date - pd.offsets.BDay(1), end=end_date + pd.offsets.BDay(1), interval='1mo')\n",
    "index2_data = yf.download(index2, start=start_date - pd.offsets.BDay(1), end=end_date + pd.offsets.BDay(1), interval='1mo')\n",
    "\n",
    "# Calculate monthly simple returns\n",
    "index1_returns = index1_data['Adj Close'].pct_change().dropna()\n",
    "index2_returns = index2_data['Adj Close'].pct_change().dropna()\n",
    "\n",
    "# Create index_mon DataFrame\n",
    "index_mon = pd.DataFrame({index1: index1_returns, index2: index2_returns})\n",
    "index_mon = index_mon.dropna()\n"
   ]
  },
  {
   "cell_type": "code",
   "execution_count": 107,
   "id": "d8531509",
   "metadata": {},
   "outputs": [
    {
     "data": {
      "text/plain": [
       "(58, 2)"
      ]
     },
     "execution_count": 107,
     "metadata": {},
     "output_type": "execute_result"
    }
   ],
   "source": [
    "index_mon.shape"
   ]
  },
  {
   "cell_type": "code",
   "execution_count": 108,
   "id": "7e4da43e",
   "metadata": {
    "deletable": false,
    "editable": false
   },
   "outputs": [
    {
     "name": "stderr",
     "output_type": "stream",
     "text": [
      "/Users/chengyixu/Library/Python/3.10/lib/python/site-packages/nbformat/__init__.py:93: MissingIDFieldWarning: Code cell is missing an id field, this will become a hard error in future nbformat versions. You may want to use `normalize()` on your notebooks before validations (available since nbformat 5.1.4). Previous versions of nbformat are fixing this issue transparently, and will stop doing so in the future.\n",
      "  validate(nb)\n"
     ]
    },
    {
     "data": {
      "text/html": [
       "<p><strong><pre style='display: inline;'>q01</pre></strong> passed! 🌟</p>"
      ],
      "text/plain": [
       "q01 results: All test cases passed!"
      ]
     },
     "execution_count": 108,
     "metadata": {},
     "output_type": "execute_result"
    }
   ],
   "source": [
    "grader.check(\"q01\")"
   ]
  },
  {
   "attachments": {},
   "cell_type": "markdown",
   "id": "bcd1f7c6",
   "metadata": {},
   "source": [
    "---"
   ]
  },
  {
   "attachments": {},
   "cell_type": "markdown",
   "id": "6a3796db",
   "metadata": {},
   "source": [
    "<!-- BEGIN QUESTION -->\n",
    "\n",
    "#### 2. Create a line plot of the cumulative return series for the two indexes in the `index_mon` DataFrame. Use \"figsize\", \"grid\", and \"title\" with the Pandas plot() method.\n",
    "\n",
    "_Points:_ 5"
   ]
  },
  {
   "cell_type": "code",
   "execution_count": 109,
   "id": "88580022",
   "metadata": {
    "tags": []
   },
   "outputs": [
    {
     "data": {
      "text/plain": [
       "<Axes: title={'center': 'Cumulative Returns of the Two Indexes'}, xlabel='Date'>"
      ]
     },
     "execution_count": 109,
     "metadata": {},
     "output_type": "execute_result"
    },
    {
     "data": {
      "image/png": "[encoded data removed]",
      "text/plain": [
       "<Figure size 1000x600 with 1 Axes>"
      ]
     },
     "metadata": {},
     "output_type": "display_data"
    }
   ],
   "source": [
    "cumulative_returns = (1 + index_mon).cumprod() - 1\n",
    "cumulative_returns.plot(figsize=(10, 6), grid=True, title='Cumulative Returns of the Two Indexes')\n"
   ]
  },
  {
   "attachments": {},
   "cell_type": "markdown",
   "id": "4fcd9ba4",
   "metadata": {},
   "source": [
    "<!-- END QUESTION -->\n",
    "\n",
    "---"
   ]
  },
  {
   "attachments": {},
   "cell_type": "markdown",
   "id": "0c248a55",
   "metadata": {},
   "source": [
    "#### 3. Create a new DataFrame named `ff_factors` to store the monthly Fama-French 4 factors over the sample period January 2017 - October 2021.\n",
    "\n",
    "_Points:_ 5"
   ]
  },
  {
   "cell_type": "code",
   "execution_count": 110,
   "id": "757c05d4",
   "metadata": {
    "tags": []
   },
   "outputs": [
    {
     "data": {
      "text/html": [
       "<div>\n",
       "<style scoped>\n",
       "    .dataframe tbody tr th:only-of-type {\n",
       "        vertical-align: middle;\n",
       "    }\n",
       "\n",
       "    .dataframe tbody tr th {\n",
       "        vertical-align: top;\n",
       "    }\n",
       "\n",
       "    .dataframe thead th {\n",
       "        text-align: right;\n",
       "    }\n",
       "</style>\n",
       "<table border=\"1\" class=\"dataframe\">\n",
       "  <thead>\n",
       "    <tr style=\"text-align: right;\">\n",
       "      <th></th>\n",
       "      <th>Mkt-RF</th>\n",
       "      <th>SMB</th>\n",
       "      <th>HML</th>\n",
       "      <th>RF</th>\n",
       "      <th>Mom</th>\n",
       "    </tr>\n",
       "    <tr>\n",
       "      <th>Date</th>\n",
       "      <th></th>\n",
       "      <th></th>\n",
       "      <th></th>\n",
       "      <th></th>\n",
       "      <th></th>\n",
       "    </tr>\n",
       "  </thead>\n",
       "  <tbody>\n",
       "    <tr>\n",
       "      <th>2017-01-01</th>\n",
       "      <td>0.0194</td>\n",
       "      <td>-0.0114</td>\n",
       "      <td>-0.0276</td>\n",
       "      <td>0.0004</td>\n",
       "      <td>-0.0093</td>\n",
       "    </tr>\n",
       "    <tr>\n",
       "      <th>2017-02-01</th>\n",
       "      <td>0.0357</td>\n",
       "      <td>-0.0202</td>\n",
       "      <td>-0.0168</td>\n",
       "      <td>0.0004</td>\n",
       "      <td>-0.0165</td>\n",
       "    </tr>\n",
       "    <tr>\n",
       "      <th>2017-03-01</th>\n",
       "      <td>0.0017</td>\n",
       "      <td>0.0114</td>\n",
       "      <td>-0.0332</td>\n",
       "      <td>0.0003</td>\n",
       "      <td>-0.0102</td>\n",
       "    </tr>\n",
       "    <tr>\n",
       "      <th>2017-04-01</th>\n",
       "      <td>0.0109</td>\n",
       "      <td>0.0072</td>\n",
       "      <td>-0.0210</td>\n",
       "      <td>0.0005</td>\n",
       "      <td>0.0048</td>\n",
       "    </tr>\n",
       "    <tr>\n",
       "      <th>2017-05-01</th>\n",
       "      <td>0.0106</td>\n",
       "      <td>-0.0252</td>\n",
       "      <td>-0.0378</td>\n",
       "      <td>0.0006</td>\n",
       "      <td>0.0148</td>\n",
       "    </tr>\n",
       "  </tbody>\n",
       "</table>\n",
       "</div>"
      ],
      "text/plain": [
       "            Mkt-RF     SMB     HML      RF  Mom   \n",
       "Date                                              \n",
       "2017-01-01  0.0194 -0.0114 -0.0276  0.0004 -0.0093\n",
       "2017-02-01  0.0357 -0.0202 -0.0168  0.0004 -0.0165\n",
       "2017-03-01  0.0017  0.0114 -0.0332  0.0003 -0.0102\n",
       "2017-04-01  0.0109  0.0072 -0.0210  0.0005  0.0048\n",
       "2017-05-01  0.0106 -0.0252 -0.0378  0.0006  0.0148"
      ]
     },
     "execution_count": 110,
     "metadata": {},
     "output_type": "execute_result"
    }
   ],
   "source": [
    "start_date = '2017-01-01'\n",
    "end_date = '2021-10-31'\n",
    "ff_factors = web.DataReader('F-F_Research_Data_Factors', 'famafrench', start_date, end_date)[0]\n",
    "mom_factor = web.DataReader('F-F_Momentum_Factor', 'famafrench', start_date, end_date)[0]\n",
    "ff_factors = pd.merge(ff_factors, mom_factor, on='Date')\n",
    "ff_factors = ff_factors / 100\n",
    "ff_factors.index = ff_factors.index.to_timestamp()\n",
    "ff_factors.head()"
   ]
  },
  {
   "cell_type": "code",
   "execution_count": 111,
   "metadata": {},
   "outputs": [
    {
     "data": {
      "text/plain": [
       "(58, 5)"
      ]
     },
     "execution_count": 111,
     "metadata": {},
     "output_type": "execute_result"
    }
   ],
   "source": [
    "ff_factors.shape"
   ]
  },
  {
   "cell_type": "code",
   "execution_count": 112,
   "id": "70070e2d",
   "metadata": {
    "deletable": false,
    "editable": false
   },
   "outputs": [
    {
     "name": "stderr",
     "output_type": "stream",
     "text": [
      "/Users/chengyixu/Library/Python/3.10/lib/python/site-packages/nbformat/__init__.py:93: MissingIDFieldWarning: Code cell is missing an id field, this will become a hard error in future nbformat versions. You may want to use `normalize()` on your notebooks before validations (available since nbformat 5.1.4). Previous versions of nbformat are fixing this issue transparently, and will stop doing so in the future.\n",
      "  validate(nb)\n"
     ]
    },
    {
     "data": {
      "text/html": [
       "<p><strong><pre style='display: inline;'>q03</pre></strong> passed! 🚀</p>"
      ],
      "text/plain": [
       "q03 results: All test cases passed!"
      ]
     },
     "execution_count": 112,
     "metadata": {},
     "output_type": "execute_result"
    }
   ],
   "source": [
    "grader.check(\"q03\")"
   ]
  },
  {
   "attachments": {},
   "cell_type": "markdown",
   "id": "4ce84f12",
   "metadata": {},
   "source": [
    "---"
   ]
  },
  {
   "attachments": {},
   "cell_type": "markdown",
   "id": "b3448ce4",
   "metadata": {},
   "source": [
    "#### 4. Compute the Sharpe Ratio for both indexes over the entire sample period. Store the two values in two variables labeled index1_SR, and index2_SR, where index1 is the first index in index_list, while index2 is the second index in index_list.\n",
    "\n",
    "_Points:_ 5"
   ]
  },
  {
   "cell_type": "code",
   "execution_count": 113,
   "id": "e282a493",
   "metadata": {
    "tags": []
   },
   "outputs": [],
   "source": [
    "risk_free_rate = ff_factors['RF'].mean()\n",
    "index1_SR = (index_mon[index1].mean() - risk_free_rate) / index_mon[index1].std()\n",
    "index2_SR = (index_mon[index2].mean() - risk_free_rate) / index_mon[index2].std()\n"
   ]
  },
  {
   "cell_type": "code",
   "execution_count": 114,
   "id": "f7a10a1e",
   "metadata": {
    "deletable": false,
    "editable": false
   },
   "outputs": [
    {
     "name": "stderr",
     "output_type": "stream",
     "text": [
      "/Users/chengyixu/Library/Python/3.10/lib/python/site-packages/nbformat/__init__.py:93: MissingIDFieldWarning: Code cell is missing an id field, this will become a hard error in future nbformat versions. You may want to use `normalize()` on your notebooks before validations (available since nbformat 5.1.4). Previous versions of nbformat are fixing this issue transparently, and will stop doing so in the future.\n",
      "  validate(nb)\n"
     ]
    },
    {
     "data": {
      "text/html": [
       "<p><strong><pre style='display: inline;'>q04</pre></strong> passed! 💯</p>"
      ],
      "text/plain": [
       "q04 results: All test cases passed!"
      ]
     },
     "execution_count": 114,
     "metadata": {},
     "output_type": "execute_result"
    }
   ],
   "source": [
    "grader.check(\"q04\")"
   ]
  },
  {
   "attachments": {},
   "cell_type": "markdown",
   "id": "d0abfb84",
   "metadata": {},
   "source": [
    "---"
   ]
  },
  {
   "attachments": {},
   "cell_type": "markdown",
   "id": "61028e80",
   "metadata": {},
   "source": [
    "<!-- BEGIN QUESTION -->\n",
    "\n",
    "#### 5. Run the Fama-French 4 factor model for both indexes over the entire sample period and print the output of the regression.\n",
    "\n",
    "_Points:_ 5"
   ]
  },
  {
   "cell_type": "code",
   "execution_count": 115,
   "id": "5275784a",
   "metadata": {
    "tags": []
   },
   "outputs": [
    {
     "name": "stdout",
     "output_type": "stream",
     "text": [
      "Regression for ^DJI:\n",
      "                            OLS Regression Results                            \n",
      "==============================================================================\n",
      "Dep. Variable:            ^DJI_excess   R-squared:                       0.946\n",
      "Model:                            OLS   Adj. R-squared:                  0.942\n",
      "Method:                 Least Squares   F-statistic:                     233.7\n",
      "Date:                Mon, 24 Apr 2023   Prob (F-statistic):           5.65e-33\n",
      "Time:                        12:31:32   Log-Likelihood:                 181.66\n",
      "No. Observations:                  58   AIC:                            -353.3\n",
      "Df Residuals:                      53   BIC:                            -343.0\n",
      "Df Model:                           4                                         \n",
      "Covariance Type:            nonrobust                                         \n",
      "==============================================================================\n",
      "                 coef    std err          t      P>|t|      [0.025      0.975]\n",
      "------------------------------------------------------------------------------\n",
      "const         -0.0018      0.002     -1.118      0.269      -0.005       0.001\n",
      "Mkt-RF         0.9308      0.035     26.350      0.000       0.860       1.002\n",
      "SMB           -0.2352      0.058     -4.035      0.000      -0.352      -0.118\n",
      "HML            0.1450      0.047      3.072      0.003       0.050       0.240\n",
      "Mom           -0.0562      0.048     -1.166      0.249      -0.153       0.041\n",
      "==============================================================================\n",
      "Omnibus:                        1.501   Durbin-Watson:                   2.393\n",
      "Prob(Omnibus):                  0.472   Jarque-Bera (JB):                1.225\n",
      "Skew:                          -0.355   Prob(JB):                        0.542\n",
      "Kurtosis:                       2.940   Cond. No.                         42.2\n",
      "==============================================================================\n",
      "\n",
      "Notes:\n",
      "[1] Standard Errors assume that the covariance matrix of the errors is correctly specified.\n",
      "\n",
      "\n",
      "Regression for ^IXIC:\n",
      "                            OLS Regression Results                            \n",
      "==============================================================================\n",
      "Dep. Variable:           ^IXIC_excess   R-squared:                       0.965\n",
      "Model:                            OLS   Adj. R-squared:                  0.963\n",
      "Method:                 Least Squares   F-statistic:                     367.8\n",
      "Date:                Mon, 24 Apr 2023   Prob (F-statistic):           5.86e-38\n",
      "Time:                        12:31:32   Log-Likelihood:                 188.70\n",
      "No. Observations:                  58   AIC:                            -367.4\n",
      "Df Residuals:                      53   BIC:                            -357.1\n",
      "Df Model:                           4                                         \n",
      "Covariance Type:            nonrobust                                         \n",
      "==============================================================================\n",
      "                 coef    std err          t      P>|t|      [0.025      0.975]\n",
      "------------------------------------------------------------------------------\n",
      "const          0.0008      0.001      0.596      0.553      -0.002       0.004\n",
      "Mkt-RF         1.0811      0.031     34.550      0.000       1.018       1.144\n",
      "SMB            0.0967      0.052      1.873      0.067      -0.007       0.200\n",
      "HML           -0.2540      0.042     -6.077      0.000      -0.338      -0.170\n",
      "Mom            0.0731      0.043      1.712      0.093      -0.013       0.159\n",
      "==============================================================================\n",
      "Omnibus:                        0.680   Durbin-Watson:                   2.612\n",
      "Prob(Omnibus):                  0.712   Jarque-Bera (JB):                0.538\n",
      "Skew:                          -0.232   Prob(JB):                        0.764\n",
      "Kurtosis:                       2.915   Cond. No.                         42.2\n",
      "==============================================================================\n",
      "\n",
      "Notes:\n",
      "[1] Standard Errors assume that the covariance matrix of the errors is correctly specified.\n"
     ]
    }
   ],
   "source": [
    "import statsmodels.api as sm\n",
    "\n",
    "# Merge index returns with Fama-French factors\n",
    "index_ff = pd.merge(index_mon, ff_factors, left_index=True, right_index=True,how='outer')\n",
    "\n",
    "# Calculate excess returns for both indexes\n",
    "index_ff[f'{index1}_excess'] = index_ff[index1] - index_ff['RF']\n",
    "index_ff[f'{index2}_excess'] = index_ff[index2] - index_ff['RF']\n",
    "\n",
    "# Run Fama-French 4 factor model for both indexes\n",
    "X = sm.add_constant(index_ff[['Mkt-RF', 'SMB', 'HML', 'Mom   ']])\n",
    "\n",
    "index1_model = sm.OLS(index_ff[f'{index1}_excess'], X).fit()\n",
    "index2_model = sm.OLS(index_ff[f'{index2}_excess'], X).fit()\n",
    "\n",
    "# Print the output of the regression\n",
    "print(f\"Regression for {index1}:\")\n",
    "print(index1_model.summary())\n",
    "print(\"\\n\")\n",
    "print(f\"Regression for {index2}:\")\n",
    "print(index2_model.summary())\n"
   ]
  },
  {
   "attachments": {},
   "cell_type": "markdown",
   "id": "1fdaede4",
   "metadata": {},
   "source": [
    "<!-- END QUESTION -->\n",
    "\n",
    "---"
   ]
  },
  {
   "attachments": {},
   "cell_type": "markdown",
   "id": "bd4f7c3c",
   "metadata": {},
   "source": [
    "<!-- BEGIN QUESTION -->\n",
    "\n",
    "#### 6. Did either of the indexes outperform or underperform? Briefly explain.\n",
    "\n",
    "_Points:_ 5"
   ]
  },
  {
   "attachments": {},
   "cell_type": "markdown",
   "id": "c9bb929d",
   "metadata": {},
   "source": [
    "For ^DJI, the alpha is -0.0018, which suggests that the ^DJI index slightly underperforms the market on average, given the other factors in the model. However, it's important to note that the underperformance is relatively small and the P value is large, indicating insiginificant result.\n",
    "\n",
    "For ^IXIC, the alpha is 0.0008, which implies that the ^IXIC index slightly outperforms the market on average, given the other factors in the model. Again, the outperformance is relatively small and the P value is large, indicating insiginificant result."
   ]
  },
  {
   "cell_type": "code",
   "execution_count": 116,
   "id": "67cfce1c",
   "metadata": {
    "tags": []
   },
   "outputs": [
    {
     "data": {
      "text/plain": [
       "Ellipsis"
      ]
     },
     "execution_count": 116,
     "metadata": {},
     "output_type": "execute_result"
    }
   ],
   "source": [
    "..."
   ]
  },
  {
   "attachments": {},
   "cell_type": "markdown",
   "id": "7b71fe3f",
   "metadata": {},
   "source": [
    "<!-- END QUESTION -->\n",
    "\n",
    "---"
   ]
  },
  {
   "attachments": {},
   "cell_type": "markdown",
   "id": "c156ffb0",
   "metadata": {},
   "source": [
    "<!-- BEGIN QUESTION -->\n",
    "\n",
    "#### 7. Based on the coefficients for the SMB and HML factors, what inferences can you draw about the two indexes? Briefly explain.\n",
    "\n",
    "_Points:_ 5"
   ]
  },
  {
   "attachments": {},
   "cell_type": "markdown",
   "id": "24bb54fb",
   "metadata": {},
   "source": [
    "For ^DJI, the SMB coefficient is -0.2352, which is statistically significant (P>|t| = 0.000). This suggests that the ^DJI index has a tilt toward large-cap stocks.\n",
    "\n",
    "For ^IXIC, the SMB coefficient is 0.0967, which is not statistically significant (P>|t| = 0.067). This suggests that the ^IXIC index does not have a clear tilt toward either small-cap or large-cap stocks.\n",
    "\n",
    "The HML (High Minus Low) factor represents the return difference between value stocks (high book-to-market ratio) and growth stocks (low book-to-market ratio). A positive coefficient suggests that the index is tilted toward value stocks, while a negative coefficient suggests a tilt toward growth stocks.\n",
    "\n",
    "For ^DJI, the HML coefficient is 0.1450, which is statistically significant (P>|t| = 0.003). This suggests that the ^DJI index has a tilt toward value stocks.\n",
    "\n",
    "For ^IXIC, the HML coefficient is -0.2540, which is statistically significant (P>|t| = 0.000). This suggests that the ^IXIC index has a tilt toward growth stocks."
   ]
  },
  {
   "cell_type": "code",
   "execution_count": null,
   "id": "a3568fb3",
   "metadata": {
    "tags": []
   },
   "outputs": [],
   "source": []
  },
  {
   "attachments": {},
   "cell_type": "markdown",
   "id": "e117764c",
   "metadata": {},
   "source": [
    "<!-- END QUESTION -->\n",
    "\n",
    "---"
   ]
  },
  {
   "attachments": {},
   "cell_type": "markdown",
   "id": "8458ad0a",
   "metadata": {},
   "source": [
    "### PART 2"
   ]
  },
  {
   "attachments": {},
   "cell_type": "markdown",
   "id": "e2d5d7f6",
   "metadata": {},
   "source": [
    "#### Please run the code in the cell below. You will be assigned five stocks, whose tickers will be stored in a variable called stock_list."
   ]
  },
  {
   "cell_type": "code",
   "execution_count": 117,
   "id": "bd754ed9",
   "metadata": {
    "scrolled": true
   },
   "outputs": [
    {
     "data": {
      "text/plain": [
       "['CAT', 'CSCO', 'DIS', 'HD', 'WMT']"
      ]
     },
     "execution_count": 117,
     "metadata": {},
     "output_type": "execute_result"
    }
   ],
   "source": [
    "np.random.seed(asgnd_seed)\n",
    "all_tickers = ['AAPL', 'AXP', 'BA', 'BAC', 'C', 'CAT', 'CSCO', 'CVX', 'DIS', 'GS', 'HD', 'IBM', 'INTC', 'JNJ', 'JPM', 'KO',\n",
    "            'MCD', 'MMM', 'MRK', 'MSFT', 'NKE', 'PFE', 'PG', 'TRV', 'T', 'UNH', 'V', 'VZ', 'WMT', 'XOM']\n",
    "\n",
    "stock_list = sorted(np.random.choice(all_tickers,5,replace=False))\n",
    "stock_list"
   ]
  },
  {
   "attachments": {},
   "cell_type": "markdown",
   "id": "0102d811",
   "metadata": {},
   "source": [
    "#### 8. Create a DataFrame called `returns_pt2` to store the monthly simple returns for the five stocks you were assigned. The sample period is January 1st, 2012 to December 31st, 2016. Each stock's return should be stored in a column labeled 'ticker', where ticker represents that stock's trading ticker. Drop any observations with missing values.\n",
    "\n",
    "_Points:_ 5"
   ]
  },
  {
   "cell_type": "code",
   "execution_count": 118,
   "id": "f53cd0ce",
   "metadata": {
    "scrolled": true,
    "tags": []
   },
   "outputs": [
    {
     "name": "stdout",
     "output_type": "stream",
     "text": [
      "[*********************100%***********************]  5 of 5 completed\n",
      "            ticker_CAT  ticker_CSCO  ticker_DIS  ticker_HD  ticker_WMT\n",
      "Date                                                                  \n",
      "2012-01-31    0.209798     0.090455    0.037333   0.055899    0.026774\n",
      "2012-02-29    0.046646     0.011705    0.079435   0.071637   -0.037158\n",
      "2012-03-31   -0.067332     0.063883    0.042629   0.064112    0.042817\n",
      "2012-04-30   -0.031124    -0.043196   -0.015304   0.029417   -0.037418\n",
      "2012-05-31   -0.147417    -0.189980    0.060311  -0.041685    0.124879\n",
      "2012-06-30   -0.030929     0.051439    0.061037   0.073977    0.059252\n",
      "2012-07-31   -0.001908    -0.066706    0.013196  -0.015286    0.067556\n",
      "2012-08-31    0.013300     0.196239    0.006716   0.093175   -0.019312\n",
      "2012-09-30    0.008321     0.001048    0.056802   0.063789    0.016529\n",
      "2012-10-31   -0.008343    -0.095443   -0.060444   0.016730    0.016531\n",
      "2012-11-30    0.005070     0.110783    0.010993   0.064893   -0.039989\n",
      "2012-12-31    0.057323     0.039132    0.018014  -0.049485   -0.047367\n",
      "2013-01-31    0.097980     0.046819    0.082145   0.081972    0.025209\n",
      "2013-02-28   -0.061185     0.014098    0.013177   0.023611    0.011866\n",
      "2013-03-31   -0.058461     0.001917    0.040484   0.024287    0.064040\n",
      "2013-04-30   -0.020192     0.009049    0.106338   0.051161    0.038621\n",
      "2013-05-31    0.013346     0.152963    0.003819   0.072393   -0.031280\n",
      "2013-06-30   -0.038578     0.009121    0.001110  -0.010247   -0.004677\n",
      "2013-07-31    0.012099     0.058751    0.023753   0.020137    0.046315\n",
      "2013-08-31   -0.004463    -0.089098   -0.059087  -0.057447   -0.057952\n",
      "2013-09-30    0.010419     0.005148    0.060168   0.023617    0.013428\n",
      "2013-10-31    0.006520    -0.030094    0.063576   0.026895    0.037723\n",
      "2013-11-30    0.014876    -0.058068    0.028430   0.035692    0.055505\n",
      "2013-12-31    0.073404     0.055530    0.096445   0.025716   -0.022984\n",
      "2014-01-31    0.040896    -0.015723   -0.049607  -0.066675   -0.050960\n",
      "2014-02-28    0.032584    -0.005020    0.112932   0.067404    0.000268\n",
      "2014-03-31    0.024750     0.028440   -0.009157  -0.029804    0.029761\n",
      "2014-04-30    0.066928     0.039586   -0.009117   0.004802    0.042915\n",
      "2014-05-31   -0.030076     0.065339    0.058861   0.009055   -0.030921\n",
      "2014-06-30    0.062995     0.009342    0.020593   0.015000   -0.022144\n",
      "2014-07-31   -0.067019     0.023042    0.001633  -0.001359   -0.019848\n",
      "2014-08-31    0.082581    -0.009513    0.046577   0.156462    0.032854\n",
      "2014-09-30   -0.092051     0.014879   -0.009457  -0.013867    0.012848\n",
      "2014-10-31    0.031834    -0.027811    0.026396   0.063004   -0.002616\n",
      "2014-11-30   -0.007988     0.129547    0.012366   0.019278    0.147764\n",
      "2014-12-31   -0.090159     0.006512    0.031101   0.061080   -0.013482\n",
      "2015-01-31   -0.119133    -0.045603   -0.034292  -0.005240   -0.010479\n",
      "2015-02-28    0.036639     0.119075    0.144239   0.098928   -0.012356\n",
      "2015-03-31   -0.034620    -0.059956    0.007782  -0.004840   -0.014131\n",
      "2015-04-30    0.094590     0.047221    0.036514  -0.058358   -0.051064\n",
      "2015-05-31   -0.017956     0.016649    0.015177   0.041503   -0.042425\n",
      "2015-06-30   -0.005860    -0.063119    0.034158   0.002695   -0.044971\n",
      "2015-07-31   -0.064418     0.042936    0.057455   0.053091    0.014804\n",
      "2015-08-31   -0.027852    -0.089374   -0.151000  -0.004870   -0.094582\n",
      "2015-09-30   -0.144950     0.014297    0.003141  -0.003280    0.001699\n",
      "2015-10-31    0.129218     0.107911    0.112916   0.070569   -0.117212\n",
      "2015-11-30   -0.004658    -0.055459   -0.002374   0.082821    0.027952\n",
      "2015-12-31   -0.064556    -0.003303   -0.068004  -0.007802    0.050535\n",
      "2016-01-31   -0.072701    -0.117254   -0.088123  -0.049074    0.082545\n",
      "2016-02-29    0.087725     0.100462   -0.003131  -0.013041   -0.000301\n",
      "2016-03-31    0.130576     0.087471    0.039678   0.080919    0.040052\n",
      "2016-04-30    0.025318    -0.025592    0.039775   0.003448   -0.023653\n",
      "2016-05-31   -0.067035     0.056748   -0.039125  -0.008110    0.066221\n",
      "2016-06-30    0.045511    -0.012392   -0.014110  -0.033530    0.031647\n",
      "2016-07-31    0.102193     0.073828   -0.011991   0.082622   -0.000685\n",
      "2016-08-31   -0.009788     0.029807   -0.015529  -0.024828   -0.014265\n",
      "2016-09-30    0.083221     0.008906   -0.016938  -0.040561    0.009519\n",
      "2016-10-31   -0.051518    -0.024793   -0.001831  -0.051834   -0.029118\n",
      "2016-11-30    0.144979    -0.028031    0.069371   0.066200    0.005855\n",
      "2016-12-31   -0.029510     0.013414    0.059556   0.036167   -0.011576\n"
     ]
    }
   ],
   "source": [
    "tickers = ['CAT', 'CSCO', 'DIS', 'HD', 'WMT']\n",
    "start_date = dt.datetime(2012, 1, 1)\n",
    "end_date = dt.datetime(2016, 12, 31)\n",
    "\n",
    "price_data = yf.download(tickers, start=start_date- pd.offsets.BDay(1), end=end_date+ pd.offsets.BDay(1))['Adj Close']\n",
    "\n",
    "monthly_returns = price_data.resample('M').ffill().pct_change()\n",
    "monthly_returns = monthly_returns.dropna()\n",
    "monthly_returns.columns = ['ticker_' + ticker for ticker in tickers]\n",
    "\n",
    "returns_pt2 = monthly_returns\n",
    "\n",
    "print(returns_pt2)"
   ]
  },
  {
   "cell_type": "code",
   "execution_count": 119,
   "id": "65398988",
   "metadata": {
    "deletable": false,
    "editable": false
   },
   "outputs": [
    {
     "name": "stderr",
     "output_type": "stream",
     "text": [
      "/Users/chengyixu/Library/Python/3.10/lib/python/site-packages/nbformat/__init__.py:93: MissingIDFieldWarning: Code cell is missing an id field, this will become a hard error in future nbformat versions. You may want to use `normalize()` on your notebooks before validations (available since nbformat 5.1.4). Previous versions of nbformat are fixing this issue transparently, and will stop doing so in the future.\n",
      "  validate(nb)\n"
     ]
    },
    {
     "data": {
      "text/html": [
       "<p><strong><pre style='display: inline;'>q08</pre></strong> passed! 🚀</p>"
      ],
      "text/plain": [
       "q08 results: All test cases passed!"
      ]
     },
     "execution_count": 119,
     "metadata": {},
     "output_type": "execute_result"
    }
   ],
   "source": [
    "grader.check(\"q08\")"
   ]
  },
  {
   "attachments": {},
   "cell_type": "markdown",
   "id": "3f1efab1",
   "metadata": {},
   "source": [
    "---"
   ]
  },
  {
   "attachments": {},
   "cell_type": "markdown",
   "id": "37749762",
   "metadata": {},
   "source": [
    "#### 9. Create a new DataFrame named `rf_rate` to store the monthly risk-free rate over the sample period January 1st, 2012 - December 31st, 2016.\n",
    "\n",
    "_Points:_ 4.5"
   ]
  },
  {
   "cell_type": "code",
   "execution_count": 120,
   "id": "68ae99d5",
   "metadata": {
    "tags": []
   },
   "outputs": [
    {
     "data": {
      "text/html": [
       "<div>\n",
       "<style scoped>\n",
       "    .dataframe tbody tr th:only-of-type {\n",
       "        vertical-align: middle;\n",
       "    }\n",
       "\n",
       "    .dataframe tbody tr th {\n",
       "        vertical-align: top;\n",
       "    }\n",
       "\n",
       "    .dataframe thead th {\n",
       "        text-align: right;\n",
       "    }\n",
       "</style>\n",
       "<table border=\"1\" class=\"dataframe\">\n",
       "  <thead>\n",
       "    <tr style=\"text-align: right;\">\n",
       "      <th></th>\n",
       "      <th>RF</th>\n",
       "    </tr>\n",
       "    <tr>\n",
       "      <th>Date</th>\n",
       "      <th></th>\n",
       "    </tr>\n",
       "  </thead>\n",
       "  <tbody>\n",
       "    <tr>\n",
       "      <th>2012-01-31</th>\n",
       "      <td>0.0000</td>\n",
       "    </tr>\n",
       "    <tr>\n",
       "      <th>2012-02-29</th>\n",
       "      <td>0.0000</td>\n",
       "    </tr>\n",
       "    <tr>\n",
       "      <th>2012-03-31</th>\n",
       "      <td>0.0000</td>\n",
       "    </tr>\n",
       "    <tr>\n",
       "      <th>2012-04-30</th>\n",
       "      <td>0.0000</td>\n",
       "    </tr>\n",
       "    <tr>\n",
       "      <th>2012-05-31</th>\n",
       "      <td>0.0001</td>\n",
       "    </tr>\n",
       "  </tbody>\n",
       "</table>\n",
       "</div>"
      ],
      "text/plain": [
       "                RF\n",
       "Date              \n",
       "2012-01-31  0.0000\n",
       "2012-02-29  0.0000\n",
       "2012-03-31  0.0000\n",
       "2012-04-30  0.0000\n",
       "2012-05-31  0.0001"
      ]
     },
     "execution_count": 120,
     "metadata": {},
     "output_type": "execute_result"
    }
   ],
   "source": [
    "start_date = dt.datetime(2012, 1, 1)\n",
    "end_date = dt.datetime(2016, 12, 31)\n",
    "\n",
    "rf_rate = web.DataReader('F-F_Research_Data_Factors','famafrench', start_date, end_date)[0][['RF']].div(100)\n",
    "rf_rate.index = rf_rate.index.to_timestamp(how='end').normalize()\n",
    "rf_rate.head()"
   ]
  },
  {
   "cell_type": "code",
   "execution_count": 121,
   "id": "46457c3e",
   "metadata": {
    "deletable": false,
    "editable": false
   },
   "outputs": [
    {
     "name": "stderr",
     "output_type": "stream",
     "text": [
      "/Users/chengyixu/Library/Python/3.10/lib/python/site-packages/nbformat/__init__.py:93: MissingIDFieldWarning: Code cell is missing an id field, this will become a hard error in future nbformat versions. You may want to use `normalize()` on your notebooks before validations (available since nbformat 5.1.4). Previous versions of nbformat are fixing this issue transparently, and will stop doing so in the future.\n",
      "  validate(nb)\n"
     ]
    },
    {
     "data": {
      "text/html": [
       "<p><strong><pre style='display: inline;'>q09</pre></strong> passed! 🎉</p>"
      ],
      "text/plain": [
       "q09 results: All test cases passed!"
      ]
     },
     "execution_count": 121,
     "metadata": {},
     "output_type": "execute_result"
    }
   ],
   "source": [
    "grader.check(\"q09\")"
   ]
  },
  {
   "attachments": {},
   "cell_type": "markdown",
   "id": "7211f7e9",
   "metadata": {},
   "source": [
    "---"
   ]
  },
  {
   "attachments": {},
   "cell_type": "markdown",
   "id": "f830d82c",
   "metadata": {
    "tags": []
   },
   "source": [
    "#### 10. Find the optimal portfolio that can be created using the five stocks you were assigned (assume there are short-selling constraints) over the sample period January 1st, 2012 - December 31st, 2016. Store the optimal weights in a DataFrame named `weights`, which should have two columns: 1) TICKER (set as the index); 2) OP_weights (to store the optimal weights). Thus, the DataFrame should have a (5,1) shape.\n",
    "\n",
    "_Points:_ 5"
   ]
  },
  {
   "cell_type": "code",
   "execution_count": 122,
   "id": "3168b8c6",
   "metadata": {},
   "outputs": [
    {
     "name": "stdout",
     "output_type": "stream",
     "text": [
      "[*********************100%***********************]  5 of 5 completed\n"
     ]
    }
   ],
   "source": [
    "def port_ret(weights):\n",
    "    port_ret = np.dot(prices_mon*12,weights).mean()\n",
    "    return port_ret\n",
    "\n",
    "def port_std(weights):\n",
    "    port_std = np.sqrt(np.dot(weights, np.dot(prices_mon.cov()*12, weights)))\n",
    "    return port_std\n",
    "\n",
    "def ex_port_ret(weights):\n",
    "    ex_port_ret = (np.dot(prices_mon,weights) - rf['RF']).mean()*12\n",
    "    return ex_port_ret\n",
    "\n",
    "def ex_port_std(weights):\n",
    "    ex_port_std = (np.dot(prices_mon,weights) - rf['RF']).std()*np.sqrt(12)\n",
    "    return ex_port_std\n",
    "\n",
    "def neg_SR(weights):\n",
    "    SR = ex_port_ret(weights) / ex_port_std(weights)\n",
    "    return (-1)*SR\n",
    "\n",
    "start = dt.datetime(2012,1,1)\n",
    "end = dt.datetime(2016,12,31)\n",
    "prices = yf.download(list(stock_list),start-pd.offsets.BusinessDay(1),end+pd.offsets.BusinessDay(1))['Adj Close'].pct_change().dropna()\n",
    "prices_mon = prices.resample(rule = 'M').apply(lambda x: x.add(1).prod().sub(1))\n",
    "\n",
    "rf = web.DataReader('F-F_Research_Data_Factors','famafrench', start, end)[0][['RF']].div(100) #Get risk free rate\n",
    "rf.index = rf.index.to_timestamp(how='end').normalize()\n",
    "prices_mon = prices_mon[prices_mon.index<=rf.index[-1]]\n",
    "constraints = ({'type':'eq','fun': lambda weights: np.sum(weights) - 1})\n",
    "\n",
    "boundaries=[(0,1)]\n",
    "bounds = tuple(boundaries * len(prices_mon.columns))\n",
    "init_guess = np.full(len(prices_mon.columns), 1/len(prices_mon.columns))\n",
    "optimal_port = minimize(neg_SR,init_guess,bounds = bounds,\n",
    "                        constraints=constraints)\n",
    "\n",
    "weights = pd.DataFrame({'OP_weights':optimal_port.x}, index = returns_pt2.columns)"
   ]
  },
  {
   "cell_type": "code",
   "execution_count": 123,
   "id": "9176a5db",
   "metadata": {
    "deletable": false,
    "editable": false
   },
   "outputs": [
    {
     "name": "stderr",
     "output_type": "stream",
     "text": [
      "/Users/chengyixu/Library/Python/3.10/lib/python/site-packages/nbformat/__init__.py:93: MissingIDFieldWarning: Code cell is missing an id field, this will become a hard error in future nbformat versions. You may want to use `normalize()` on your notebooks before validations (available since nbformat 5.1.4). Previous versions of nbformat are fixing this issue transparently, and will stop doing so in the future.\n",
      "  validate(nb)\n"
     ]
    },
    {
     "data": {
      "text/html": [
       "<p><strong><pre style='display: inline;'>q10</pre></strong> passed! 💯</p>"
      ],
      "text/plain": [
       "q10 results: All test cases passed!"
      ]
     },
     "execution_count": 123,
     "metadata": {},
     "output_type": "execute_result"
    }
   ],
   "source": [
    "grader.check(\"q10\")"
   ]
  },
  {
   "attachments": {},
   "cell_type": "markdown",
   "id": "b5be60f1",
   "metadata": {},
   "source": [
    "---"
   ]
  },
  {
   "attachments": {},
   "cell_type": "markdown",
   "id": "e22daa52",
   "metadata": {
    "tags": []
   },
   "source": [
    "#### 11. Create an additional column in the DataFrame `weights` to store a set of random weights for the five stocks you were assigned. Label the column RD_weights. Use the assigned seed as the random seed when generating the random weights.\n",
    "\n",
    "_Points:_ 5"
   ]
  },
  {
   "cell_type": "code",
   "execution_count": 124,
   "id": "383d15b0",
   "metadata": {
    "tags": []
   },
   "outputs": [],
   "source": [
    "np.random.seed(asgnd_seed)\n",
    "random_weights = np.random.rand(len(stock_list))\n",
    "random_weights /= np.sum(random_weights)\n",
    "weights['RD_weights'] = random_weights\n"
   ]
  },
  {
   "cell_type": "code",
   "execution_count": 125,
   "id": "efedb89d",
   "metadata": {
    "deletable": false,
    "editable": false
   },
   "outputs": [
    {
     "name": "stderr",
     "output_type": "stream",
     "text": [
      "/Users/chengyixu/Library/Python/3.10/lib/python/site-packages/nbformat/__init__.py:93: MissingIDFieldWarning: Code cell is missing an id field, this will become a hard error in future nbformat versions. You may want to use `normalize()` on your notebooks before validations (available since nbformat 5.1.4). Previous versions of nbformat are fixing this issue transparently, and will stop doing so in the future.\n",
      "  validate(nb)\n"
     ]
    },
    {
     "data": {
      "text/html": [
       "<p><strong><pre style='display: inline;'>q11</pre></strong> passed! 🌟</p>"
      ],
      "text/plain": [
       "q11 results: All test cases passed!"
      ]
     },
     "execution_count": 125,
     "metadata": {},
     "output_type": "execute_result"
    }
   ],
   "source": [
    "grader.check(\"q11\")"
   ]
  },
  {
   "attachments": {},
   "cell_type": "markdown",
   "id": "f3e220dd",
   "metadata": {},
   "source": [
    "---"
   ]
  },
  {
   "attachments": {},
   "cell_type": "markdown",
   "id": "019fa95a",
   "metadata": {},
   "source": [
    "### PART 3"
   ]
  },
  {
   "attachments": {},
   "cell_type": "markdown",
   "id": "009300b0",
   "metadata": {},
   "source": [
    "#### 12. Create a DataFrame called `prices` to store the **end of the month** Adjusted Closing Price from Yahoo!Finance for the five companies you were assigned above. The sample period is January 1st, 2017 to October 31st, 2021. Each stock's price should be stored in a column labeled 'ticker', where ticker represents that stock's trading ticker.\n",
    "\n",
    "_Points:_ 5"
   ]
  },
  {
   "cell_type": "code",
   "execution_count": 126,
   "id": "7916ff7c",
   "metadata": {
    "scrolled": true,
    "tags": []
   },
   "outputs": [
    {
     "name": "stdout",
     "output_type": "stream",
     "text": [
      "[*********************100%***********************]  5 of 5 completed\n"
     ]
    }
   ],
   "source": [
    "import pandas as pd\n",
    "import datetime as dt\n",
    "\n",
    "start_date = dt.datetime(2017, 1, 1)\n",
    "end_date = dt.datetime(2021, 10, 31)\n",
    "\n",
    "prices = yf.download(stock_list, start=start_date - pd.offsets.BDay(1), end=end_date + pd.offsets.BDay(1), interval='1mo')['Adj Close']\n",
    "\n",
    "prices.index = pd.to_datetime(prices.index).strftime('%Y-%m-%d').map(lambda x: pd.to_datetime(x) + pd.offsets.MonthEnd(0))\n"
   ]
  },
  {
   "cell_type": "code",
   "execution_count": 127,
   "id": "2f872a8d",
   "metadata": {
    "deletable": false,
    "editable": false
   },
   "outputs": [
    {
     "name": "stderr",
     "output_type": "stream",
     "text": [
      "/Users/chengyixu/Library/Python/3.10/lib/python/site-packages/nbformat/__init__.py:93: MissingIDFieldWarning: Code cell is missing an id field, this will become a hard error in future nbformat versions. You may want to use `normalize()` on your notebooks before validations (available since nbformat 5.1.4). Previous versions of nbformat are fixing this issue transparently, and will stop doing so in the future.\n",
      "  validate(nb)\n"
     ]
    },
    {
     "data": {
      "text/html": [
       "<p><strong style='color: red;'><pre style='display: inline;'>q12</pre> results:</strong></p><p><strong><pre style='display: inline;'>q12 - 1</pre> result:</strong></p><pre>    ✅ Test case passed</pre><p><strong><pre style='display: inline;'>q12 - 2</pre> result:</strong></p><pre>    ✅ Test case passed</pre><p><strong><pre style='display: inline;'>q12 - 3</pre> result:</strong></p><pre>    ❌ Test case failed\n",
       "    Trying:\n",
       "        np.allclose(np.sort(prices.sum().values),np.sort(np.array([2326.25641251,6023.49720001,7462.45547485,7877.95854187,11898.8943634])))\n",
       "    Expecting:\n",
       "        True\n",
       "    **********************************************************************\n",
       "    Line 1, in q12 2\n",
       "    Failed example:\n",
       "        np.allclose(np.sort(prices.sum().values),np.sort(np.array([2326.25641251,6023.49720001,7462.45547485,7877.95854187,11898.8943634])))\n",
       "    Expected:\n",
       "        True\n",
       "    Got:\n",
       "        False\n",
       "</pre>"
      ],
      "text/plain": [
       "q12 results:\n",
       "    q12 - 1 result:\n",
       "        ✅ Test case passed\n",
       "\n",
       "    q12 - 2 result:\n",
       "        ✅ Test case passed\n",
       "\n",
       "    q12 - 3 result:\n",
       "        ❌ Test case failed\n",
       "        Trying:\n",
       "            np.allclose(np.sort(prices.sum().values),np.sort(np.array([2326.25641251,6023.49720001,7462.45547485,7877.95854187,11898.8943634])))\n",
       "        Expecting:\n",
       "            True\n",
       "        **********************************************************************\n",
       "        Line 1, in q12 2\n",
       "        Failed example:\n",
       "            np.allclose(np.sort(prices.sum().values),np.sort(np.array([2326.25641251,6023.49720001,7462.45547485,7877.95854187,11898.8943634])))\n",
       "        Expected:\n",
       "            True\n",
       "        Got:\n",
       "            False"
      ]
     },
     "execution_count": 127,
     "metadata": {},
     "output_type": "execute_result"
    }
   ],
   "source": [
    "grader.check(\"q12\")"
   ]
  },
  {
   "attachments": {},
   "cell_type": "markdown",
   "id": "6e453dd0",
   "metadata": {},
   "source": [
    "---"
   ]
  },
  {
   "attachments": {},
   "cell_type": "markdown",
   "id": "e43ab7b0",
   "metadata": {},
   "source": [
    "#### 13. Create a DataFrame named `investments` to store the **monthly** value of a $1 investment made on December 31st, 2016 in each of the five stocks. The investment in each stock should be stored in a column labeled 'ticker', where ticker represents that stock's trading ticker.\n",
    "\n",
    "_Points:_ 5"
   ]
  },
  {
   "cell_type": "code",
   "execution_count": 128,
   "id": "a621318d",
   "metadata": {
    "tags": []
   },
   "outputs": [],
   "source": [
    "initial_investment = 1\n",
    "investments = prices.apply(lambda x: initial_investment * x / x.iloc[0])"
   ]
  },
  {
   "cell_type": "code",
   "execution_count": 129,
   "id": "db9f31d4",
   "metadata": {
    "deletable": false,
    "editable": false
   },
   "outputs": [
    {
     "name": "stderr",
     "output_type": "stream",
     "text": [
      "/Users/chengyixu/Library/Python/3.10/lib/python/site-packages/nbformat/__init__.py:93: MissingIDFieldWarning: Code cell is missing an id field, this will become a hard error in future nbformat versions. You may want to use `normalize()` on your notebooks before validations (available since nbformat 5.1.4). Previous versions of nbformat are fixing this issue transparently, and will stop doing so in the future.\n",
      "  validate(nb)\n"
     ]
    },
    {
     "data": {
      "text/html": [
       "<p><strong style='color: red;'><pre style='display: inline;'>q13</pre> results:</strong></p><p><strong><pre style='display: inline;'>q13 - 1</pre> result:</strong></p><pre>    ✅ Test case passed</pre><p><strong><pre style='display: inline;'>q13 - 2</pre> result:</strong></p><pre>    ✅ Test case passed</pre><p><strong><pre style='display: inline;'>q13 - 3</pre> result:</strong></p><pre>    ❌ Test case failed\n",
       "    Trying:\n",
       "        np.allclose(np.sort(investments.sum().values),np.sort(np.array([74.77171135,94.20542144,98.35957192,100.0358243,102.90633503])))\n",
       "    Expecting:\n",
       "        True\n",
       "    **********************************************************************\n",
       "    Line 1, in q13 2\n",
       "    Failed example:\n",
       "        np.allclose(np.sort(investments.sum().values),np.sort(np.array([74.77171135,94.20542144,98.35957192,100.0358243,102.90633503])))\n",
       "    Expected:\n",
       "        True\n",
       "    Got:\n",
       "        False\n",
       "</pre>"
      ],
      "text/plain": [
       "q13 results:\n",
       "    q13 - 1 result:\n",
       "        ✅ Test case passed\n",
       "\n",
       "    q13 - 2 result:\n",
       "        ✅ Test case passed\n",
       "\n",
       "    q13 - 3 result:\n",
       "        ❌ Test case failed\n",
       "        Trying:\n",
       "            np.allclose(np.sort(investments.sum().values),np.sort(np.array([74.77171135,94.20542144,98.35957192,100.0358243,102.90633503])))\n",
       "        Expecting:\n",
       "            True\n",
       "        **********************************************************************\n",
       "        Line 1, in q13 2\n",
       "        Failed example:\n",
       "            np.allclose(np.sort(investments.sum().values),np.sort(np.array([74.77171135,94.20542144,98.35957192,100.0358243,102.90633503])))\n",
       "        Expected:\n",
       "            True\n",
       "        Got:\n",
       "            False"
      ]
     },
     "execution_count": 129,
     "metadata": {},
     "output_type": "execute_result"
    }
   ],
   "source": [
    "grader.check(\"q13\")"
   ]
  },
  {
   "attachments": {},
   "cell_type": "markdown",
   "id": "ba957451",
   "metadata": {
    "tags": []
   },
   "source": [
    "---"
   ]
  },
  {
   "attachments": {},
   "cell_type": "markdown",
   "id": "8acfe4e3",
   "metadata": {},
   "source": [
    "#### 14. Create a DataFrame called `returns` to store the monthly simple returns for the five stocks you were assigned. The sample period is January 1st, 2017 to October 31st, 2021. Each stock's price should be stored in a column labeled 'ticker', where ticker represents that stock's trading ticker.\n",
    "\n",
    "_Points:_ 5"
   ]
  },
  {
   "cell_type": "code",
   "execution_count": 130,
   "id": "a45b3221",
   "metadata": {
    "scrolled": true,
    "tags": []
   },
   "outputs": [],
   "source": [
    "returns = prices.pct_change()\n"
   ]
  },
  {
   "cell_type": "code",
   "execution_count": 131,
   "id": "1b3bd801",
   "metadata": {
    "deletable": false,
    "editable": false
   },
   "outputs": [
    {
     "name": "stderr",
     "output_type": "stream",
     "text": [
      "/Users/chengyixu/Library/Python/3.10/lib/python/site-packages/nbformat/__init__.py:93: MissingIDFieldWarning: Code cell is missing an id field, this will become a hard error in future nbformat versions. You may want to use `normalize()` on your notebooks before validations (available since nbformat 5.1.4). Previous versions of nbformat are fixing this issue transparently, and will stop doing so in the future.\n",
      "  validate(nb)\n"
     ]
    },
    {
     "data": {
      "text/html": [
       "<p><strong style='color: red;'><pre style='display: inline;'>q14</pre> results:</strong></p><p><strong><pre style='display: inline;'>q14 - 1</pre> result:</strong></p><pre>    ✅ Test case passed</pre><p><strong><pre style='display: inline;'>q14 - 2</pre> result:</strong></p><pre>    ✅ Test case passed</pre><p><strong><pre style='display: inline;'>q14 - 3</pre> result:</strong></p><pre>    ❌ Test case failed\n",
       "    Trying:\n",
       "        np.allclose(np.sort(returns.sum().values),np.sort(np.array([0.70184885,0.91500946,0.95310957,1.08387012,1.25443217])))\n",
       "    Expecting:\n",
       "        True\n",
       "    **********************************************************************\n",
       "    Line 1, in q14 2\n",
       "    Failed example:\n",
       "        np.allclose(np.sort(returns.sum().values),np.sort(np.array([0.70184885,0.91500946,0.95310957,1.08387012,1.25443217])))\n",
       "    Expected:\n",
       "        True\n",
       "    Got:\n",
       "        False\n",
       "</pre>"
      ],
      "text/plain": [
       "q14 results:\n",
       "    q14 - 1 result:\n",
       "        ✅ Test case passed\n",
       "\n",
       "    q14 - 2 result:\n",
       "        ✅ Test case passed\n",
       "\n",
       "    q14 - 3 result:\n",
       "        ❌ Test case failed\n",
       "        Trying:\n",
       "            np.allclose(np.sort(returns.sum().values),np.sort(np.array([0.70184885,0.91500946,0.95310957,1.08387012,1.25443217])))\n",
       "        Expecting:\n",
       "            True\n",
       "        **********************************************************************\n",
       "        Line 1, in q14 2\n",
       "        Failed example:\n",
       "            np.allclose(np.sort(returns.sum().values),np.sort(np.array([0.70184885,0.91500946,0.95310957,1.08387012,1.25443217])))\n",
       "        Expected:\n",
       "            True\n",
       "        Got:\n",
       "            False"
      ]
     },
     "execution_count": 131,
     "metadata": {},
     "output_type": "execute_result"
    }
   ],
   "source": [
    "grader.check(\"q14\")"
   ]
  },
  {
   "attachments": {},
   "cell_type": "markdown",
   "id": "f431c93d",
   "metadata": {},
   "source": [
    "---"
   ]
  },
  {
   "attachments": {},
   "cell_type": "markdown",
   "id": "56a6f012",
   "metadata": {},
   "source": [
    "#### 15. Which stock had the highest total return over the sample period March 1st, 2018 - December 2020? What was the return? Store the two values in two variables labeled `stock_ans15` and `ret_ans15`.\n",
    "\n",
    "_Points:_ 5"
   ]
  },
  {
   "cell_type": "code",
   "execution_count": 132,
   "id": "22b79a98",
   "metadata": {
    "tags": []
   },
   "outputs": [],
   "source": [
    "cumulative_returns = (returns + 1).cumprod(axis=0).iloc[-1, :]\n",
    "stock_ans15 = cumulative_returns.idxmax()\n",
    "ret_ans15 = cumulative_returns.max()"
   ]
  },
  {
   "cell_type": "code",
   "execution_count": 133,
   "id": "4378262e",
   "metadata": {
    "deletable": false,
    "editable": false
   },
   "outputs": [
    {
     "name": "stderr",
     "output_type": "stream",
     "text": [
      "/Users/chengyixu/Library/Python/3.10/lib/python/site-packages/nbformat/__init__.py:93: MissingIDFieldWarning: Code cell is missing an id field, this will become a hard error in future nbformat versions. You may want to use `normalize()` on your notebooks before validations (available since nbformat 5.1.4). Previous versions of nbformat are fixing this issue transparently, and will stop doing so in the future.\n",
      "  validate(nb)\n"
     ]
    },
    {
     "data": {
      "text/html": [
       "<p><strong><pre style='display: inline;'>q15</pre></strong> passed! 🚀</p>"
      ],
      "text/plain": [
       "q15 results: All test cases passed!"
      ]
     },
     "execution_count": 133,
     "metadata": {},
     "output_type": "execute_result"
    }
   ],
   "source": [
    "grader.check(\"q15\")"
   ]
  },
  {
   "attachments": {},
   "cell_type": "markdown",
   "id": "f44a781a",
   "metadata": {},
   "source": [
    "---"
   ]
  },
  {
   "attachments": {},
   "cell_type": "markdown",
   "id": "f8a3814c",
   "metadata": {},
   "source": [
    "### PART 4"
   ]
  },
  {
   "attachments": {},
   "cell_type": "markdown",
   "id": "d7c47a37",
   "metadata": {
    "tags": []
   },
   "source": [
    "#### 16. Create a new DataFrame labeled `portfolios` to compute and store the returns of three portfolios: a) a monthly-rebalanced portfolio allocated to the five stocks according to the optimal weights (Label the column 'OP_MR') and b) two buy-and-hold portfolios allocated to the five stocks according to the random weights, as well as the optimal weights (Label the columns 'RW_BH' and 'OP_BH', respectively). Drop any observations with missing values.\n",
    "\n",
    "_Points:_ 5"
   ]
  },
  {
   "cell_type": "code",
   "execution_count": 134,
   "id": "c9d3905c",
   "metadata": {
    "tags": []
   },
   "outputs": [],
   "source": [
    "portfolios = pd.DataFrame(index=returns.index)\n",
    "portfolios['OP_MR'] = (returns * weights['OP_weights']).sum(axis=1)\n",
    "portfolios['RW_BH'] = (returns * weights['RD_weights']).sum(axis=1)\n",
    "portfolios['OP_BH'] = (returns * weights).sum(axis=1)\n",
    "portfolios = portfolios.dropna()"
   ]
  },
  {
   "cell_type": "code",
   "execution_count": 135,
   "id": "6c73a6a7",
   "metadata": {
    "deletable": false,
    "editable": false
   },
   "outputs": [
    {
     "name": "stderr",
     "output_type": "stream",
     "text": [
      "/Users/chengyixu/Library/Python/3.10/lib/python/site-packages/nbformat/__init__.py:93: MissingIDFieldWarning: Code cell is missing an id field, this will become a hard error in future nbformat versions. You may want to use `normalize()` on your notebooks before validations (available since nbformat 5.1.4). Previous versions of nbformat are fixing this issue transparently, and will stop doing so in the future.\n",
      "  validate(nb)\n"
     ]
    },
    {
     "data": {
      "text/html": [
       "<p><strong><pre style='display: inline;'>q16</pre></strong> passed! 🍀</p>"
      ],
      "text/plain": [
       "q16 results: All test cases passed!"
      ]
     },
     "execution_count": 135,
     "metadata": {},
     "output_type": "execute_result"
    }
   ],
   "source": [
    "grader.check(\"q16\")"
   ]
  },
  {
   "attachments": {},
   "cell_type": "markdown",
   "id": "b18e20f6",
   "metadata": {},
   "source": [
    "---"
   ]
  },
  {
   "attachments": {},
   "cell_type": "markdown",
   "id": "a1e6851a",
   "metadata": {},
   "source": [
    "<!-- BEGIN QUESTION -->\n",
    "\n",
    "#### 17. Create one bar plot of the three portfolios' annualized monthly standard deviations across years 2017-2020. Use \"figsize\", \"grid\" and \"title\" arguments in your plot.\n",
    "\n",
    "_Points:_ 5"
   ]
  },
  {
   "cell_type": "code",
   "execution_count": 144,
   "id": "df036358",
   "metadata": {
    "tags": []
   },
   "outputs": [
    {
     "data": {
      "image/png": "[encoded data removed]",
      "text/plain": [
       "<Figure size 1000x600 with 1 Axes>"
      ]
     },
     "metadata": {},
     "output_type": "display_data"
    }
   ],
   "source": [
    "# Reformat index as datetime object\n",
    "portfolios.index = pd.to_datetime(portfolios.index)\n",
    "\n",
    "# Calculate annualized monthly standard deviations\n",
    "annualized_std = portfolios.groupby(portfolios.index.year).std() * np.sqrt(12)\n",
    "\n",
    "# Create the bar plot\n",
    "ax = annualized_std.plot(kind='bar', figsize=(10, 6), grid=True, title=\"Annualized Monthly Standard Deviations\")\n",
    "plt.show()\n"
   ]
  },
  {
   "attachments": {},
   "cell_type": "markdown",
   "id": "df6e5e98",
   "metadata": {},
   "source": [
    "<!-- END QUESTION -->\n",
    "\n",
    "---"
   ]
  },
  {
   "attachments": {},
   "cell_type": "markdown",
   "id": "214bdf12",
   "metadata": {},
   "source": [
    "#### 18. Which of the three portfolios was the best performer over the entire sample period? What was its' cumulative (total) return over the entire sample period? Store the two values in two variables called `port18` and `ret18`, respectively.\n",
    "\n",
    "_Points:_ 5"
   ]
  },
  {
   "cell_type": "code",
   "execution_count": 137,
   "id": "7bac6ec1",
   "metadata": {
    "tags": []
   },
   "outputs": [],
   "source": [
    "cumulative_returns_port = (portfolios + 1).cumprod(axis=0).iloc[-1, :]\n",
    "port18 = cumulative_returns_port.idxmax()\n",
    "ret18 = cumulative_returns_port.max()"
   ]
  },
  {
   "cell_type": "code",
   "execution_count": 138,
   "id": "08a05117",
   "metadata": {
    "deletable": false,
    "editable": false
   },
   "outputs": [
    {
     "name": "stderr",
     "output_type": "stream",
     "text": [
      "/Users/chengyixu/Library/Python/3.10/lib/python/site-packages/nbformat/__init__.py:93: MissingIDFieldWarning: Code cell is missing an id field, this will become a hard error in future nbformat versions. You may want to use `normalize()` on your notebooks before validations (available since nbformat 5.1.4). Previous versions of nbformat are fixing this issue transparently, and will stop doing so in the future.\n",
      "  validate(nb)\n"
     ]
    },
    {
     "data": {
      "text/html": [
       "<p><strong><pre style='display: inline;'>q18</pre></strong> passed! ✨</p>"
      ],
      "text/plain": [
       "q18 results: All test cases passed!"
      ]
     },
     "execution_count": 138,
     "metadata": {},
     "output_type": "execute_result"
    }
   ],
   "source": [
    "grader.check(\"q18\")"
   ]
  },
  {
   "attachments": {},
   "cell_type": "markdown",
   "id": "9ea52766",
   "metadata": {},
   "source": [
    "---"
   ]
  },
  {
   "attachments": {},
   "cell_type": "markdown",
   "id": "eb54eda9",
   "metadata": {},
   "source": [
    "#### 19. Which of the four portfolios had the highest Sharpe ratio over the entire sample period? What was its Sharpe Ratio? Store the two values in two variables called `port19` and `sr19`, respectively. (Hint: Use the already created `ff_factors` DataFrame from Part 1 to answer this question).\n",
    "\n",
    "_Points:_ 5"
   ]
  },
  {
   "cell_type": "code",
   "execution_count": 139,
   "id": "b436e2ed",
   "metadata": {
    "tags": []
   },
   "outputs": [],
   "source": [
    "def calculate_sharpe_ratio(portfolio_returns, rf_rate):\n",
    "    portfolio_returns = portfolio_returns.dropna()\n",
    "    excess_returns = portfolio_returns - rf_rate['RF']\n",
    "    sharpe_ratio = excess_returns.mean() / excess_returns.std()\n",
    "    return sharpe_ratio\n",
    "\n",
    "sharpe_ratios = portfolios.apply(calculate_sharpe_ratio, args=(rf_rate,))\n",
    "port19 = sharpe_ratios.idxmax()\n",
    "sr19 = sharpe_ratios.max()\n"
   ]
  },
  {
   "cell_type": "code",
   "execution_count": 140,
   "id": "f972e256",
   "metadata": {
    "deletable": false,
    "editable": false
   },
   "outputs": [
    {
     "name": "stderr",
     "output_type": "stream",
     "text": [
      "/Users/chengyixu/Library/Python/3.10/lib/python/site-packages/nbformat/__init__.py:93: MissingIDFieldWarning: Code cell is missing an id field, this will become a hard error in future nbformat versions. You may want to use `normalize()` on your notebooks before validations (available since nbformat 5.1.4). Previous versions of nbformat are fixing this issue transparently, and will stop doing so in the future.\n",
      "  validate(nb)\n"
     ]
    },
    {
     "data": {
      "text/html": [
       "<p><strong><pre style='display: inline;'>q19</pre></strong> passed! 🌈</p>"
      ],
      "text/plain": [
       "q19 results: All test cases passed!"
      ]
     },
     "execution_count": 140,
     "metadata": {},
     "output_type": "execute_result"
    }
   ],
   "source": [
    "grader.check(\"q19\")"
   ]
  },
  {
   "attachments": {},
   "cell_type": "markdown",
   "id": "3332bcd1",
   "metadata": {},
   "source": [
    "---"
   ]
  },
  {
   "attachments": {},
   "cell_type": "markdown",
   "id": "f0e3e565",
   "metadata": {},
   "source": [
    "<!-- BEGIN QUESTION -->\n",
    "\n",
    "#### 20. Run the Fama-French 4 factor model for the portfolio with the highest Sharpe ratio and print the output of the regression. Did the portfolio outperform or underperform? Briefly explain.(Hint: Use the already created `ff_factors` DataFrame from Part 1 to answer this question).\n",
    "\n",
    "_Points:_ 5"
   ]
  },
  {
   "cell_type": "code",
   "execution_count": 141,
   "id": "c868616b",
   "metadata": {
    "tags": []
   },
   "outputs": [
    {
     "ename": "KeyError",
     "evalue": "nan",
     "output_type": "error",
     "traceback": [
      "\u001b[0;31m---------------------------------------------------------------------------\u001b[0m",
      "\u001b[0;31mKeyError\u001b[0m                                  Traceback (most recent call last)",
      "File \u001b[0;32m/Library/Frameworks/Python.framework/Versions/3.10/lib/python3.10/site-packages/pandas/core/indexes/base.py:3802\u001b[0m, in \u001b[0;36mIndex.get_loc\u001b[0;34m(self, key, method, tolerance)\u001b[0m\n\u001b[1;32m   3801\u001b[0m \u001b[39mtry\u001b[39;00m:\n\u001b[0;32m-> 3802\u001b[0m     \u001b[39mreturn\u001b[39;00m \u001b[39mself\u001b[39;49m\u001b[39m.\u001b[39;49m_engine\u001b[39m.\u001b[39;49mget_loc(casted_key)\n\u001b[1;32m   3803\u001b[0m \u001b[39mexcept\u001b[39;00m \u001b[39mKeyError\u001b[39;00m \u001b[39mas\u001b[39;00m err:\n",
      "File \u001b[0;32m/Library/Frameworks/Python.framework/Versions/3.10/lib/python3.10/site-packages/pandas/_libs/index.pyx:138\u001b[0m, in \u001b[0;36mpandas._libs.index.IndexEngine.get_loc\u001b[0;34m()\u001b[0m\n",
      "File \u001b[0;32m/Library/Frameworks/Python.framework/Versions/3.10/lib/python3.10/site-packages/pandas/_libs/index.pyx:165\u001b[0m, in \u001b[0;36mpandas._libs.index.IndexEngine.get_loc\u001b[0;34m()\u001b[0m\n",
      "File \u001b[0;32mpandas/_libs/hashtable_class_helper.pxi:5745\u001b[0m, in \u001b[0;36mpandas._libs.hashtable.PyObjectHashTable.get_item\u001b[0;34m()\u001b[0m\n",
      "File \u001b[0;32mpandas/_libs/hashtable_class_helper.pxi:5753\u001b[0m, in \u001b[0;36mpandas._libs.hashtable.PyObjectHashTable.get_item\u001b[0;34m()\u001b[0m\n",
      "\u001b[0;31mKeyError\u001b[0m: nan",
      "\nThe above exception was the direct cause of the following exception:\n",
      "\u001b[0;31mKeyError\u001b[0m                                  Traceback (most recent call last)",
      "\u001b[1;32m/Users/chengyixu/Desktop/Exams new/0424/Final_Gradescope 1.ipynb Cell 94\u001b[0m in \u001b[0;36m4\n\u001b[1;32m      <a href='vscode-notebook-cell:/Users/chengyixu/Desktop/Exams%20new/0424/Final_Gradescope%201.ipynb#Y162sZmlsZQ%3D%3D?line=0'>1</a>\u001b[0m \u001b[39mimport\u001b[39;00m \u001b[39mstatsmodels\u001b[39;00m\u001b[39m.\u001b[39;00m\u001b[39mapi\u001b[39;00m \u001b[39mas\u001b[39;00m \u001b[39msm\u001b[39;00m\n\u001b[1;32m      <a href='vscode-notebook-cell:/Users/chengyixu/Desktop/Exams%20new/0424/Final_Gradescope%201.ipynb#Y162sZmlsZQ%3D%3D?line=2'>3</a>\u001b[0m \u001b[39m# Prepare the Fama-French factors and the portfolio returns\u001b[39;00m\n\u001b[0;32m----> <a href='vscode-notebook-cell:/Users/chengyixu/Desktop/Exams%20new/0424/Final_Gradescope%201.ipynb#Y162sZmlsZQ%3D%3D?line=3'>4</a>\u001b[0m highest_sr_port_returns \u001b[39m=\u001b[39m portfolios[port19]\u001b[39m.\u001b[39mdropna()\n\u001b[1;32m      <a href='vscode-notebook-cell:/Users/chengyixu/Desktop/Exams%20new/0424/Final_Gradescope%201.ipynb#Y162sZmlsZQ%3D%3D?line=5'>6</a>\u001b[0m \u001b[39m# Merge the Fama-French factors with the portfolio returns\u001b[39;00m\n\u001b[1;32m      <a href='vscode-notebook-cell:/Users/chengyixu/Desktop/Exams%20new/0424/Final_Gradescope%201.ipynb#Y162sZmlsZQ%3D%3D?line=6'>7</a>\u001b[0m merged_data \u001b[39m=\u001b[39m pd\u001b[39m.\u001b[39mmerge(highest_sr_port_returns, ff_factors, left_index\u001b[39m=\u001b[39m\u001b[39mTrue\u001b[39;00m, right_index\u001b[39m=\u001b[39m\u001b[39mTrue\u001b[39;00m)\n",
      "File \u001b[0;32m/Library/Frameworks/Python.framework/Versions/3.10/lib/python3.10/site-packages/pandas/core/frame.py:3807\u001b[0m, in \u001b[0;36mDataFrame.__getitem__\u001b[0;34m(self, key)\u001b[0m\n\u001b[1;32m   3805\u001b[0m \u001b[39mif\u001b[39;00m \u001b[39mself\u001b[39m\u001b[39m.\u001b[39mcolumns\u001b[39m.\u001b[39mnlevels \u001b[39m>\u001b[39m \u001b[39m1\u001b[39m:\n\u001b[1;32m   3806\u001b[0m     \u001b[39mreturn\u001b[39;00m \u001b[39mself\u001b[39m\u001b[39m.\u001b[39m_getitem_multilevel(key)\n\u001b[0;32m-> 3807\u001b[0m indexer \u001b[39m=\u001b[39m \u001b[39mself\u001b[39;49m\u001b[39m.\u001b[39;49mcolumns\u001b[39m.\u001b[39;49mget_loc(key)\n\u001b[1;32m   3808\u001b[0m \u001b[39mif\u001b[39;00m is_integer(indexer):\n\u001b[1;32m   3809\u001b[0m     indexer \u001b[39m=\u001b[39m [indexer]\n",
      "File \u001b[0;32m/Library/Frameworks/Python.framework/Versions/3.10/lib/python3.10/site-packages/pandas/core/indexes/base.py:3804\u001b[0m, in \u001b[0;36mIndex.get_loc\u001b[0;34m(self, key, method, tolerance)\u001b[0m\n\u001b[1;32m   3802\u001b[0m     \u001b[39mreturn\u001b[39;00m \u001b[39mself\u001b[39m\u001b[39m.\u001b[39m_engine\u001b[39m.\u001b[39mget_loc(casted_key)\n\u001b[1;32m   3803\u001b[0m \u001b[39mexcept\u001b[39;00m \u001b[39mKeyError\u001b[39;00m \u001b[39mas\u001b[39;00m err:\n\u001b[0;32m-> 3804\u001b[0m     \u001b[39mraise\u001b[39;00m \u001b[39mKeyError\u001b[39;00m(key) \u001b[39mfrom\u001b[39;00m \u001b[39merr\u001b[39;00m\n\u001b[1;32m   3805\u001b[0m \u001b[39mexcept\u001b[39;00m \u001b[39mTypeError\u001b[39;00m:\n\u001b[1;32m   3806\u001b[0m     \u001b[39m# If we have a listlike key, _check_indexing_error will raise\u001b[39;00m\n\u001b[1;32m   3807\u001b[0m     \u001b[39m#  InvalidIndexError. Otherwise we fall through and re-raise\u001b[39;00m\n\u001b[1;32m   3808\u001b[0m     \u001b[39m#  the TypeError.\u001b[39;00m\n\u001b[1;32m   3809\u001b[0m     \u001b[39mself\u001b[39m\u001b[39m.\u001b[39m_check_indexing_error(key)\n",
      "\u001b[0;31mKeyError\u001b[0m: nan"
     ]
    }
   ],
   "source": [
    "import statsmodels.api as sm\n",
    "\n",
    "# Prepare the Fama-French factors and the portfolio returns\n",
    "highest_sr_port_returns = portfolios[port19].dropna()\n",
    "\n",
    "# Merge the Fama-French factors with the portfolio returns\n",
    "merged_data = pd.merge(highest_sr_port_returns, ff_factors, left_index=True, right_index=True)\n",
    "excess_returns = merged_data[port19] - merged_data['RF']\n",
    "\n",
    "# Run the regression\n",
    "X = sm.add_constant(merged_data[['Mkt-RF', 'SMB', 'HML', 'Mom   ']])\n",
    "y = excess_returns\n",
    "model = sm.OLS(y, X).fit()\n",
    "print(model.summary())\n",
    "\n",
    "# Determine outperformance or underperformance\n",
    "alpha = model.params['const']\n",
    "if alpha > 0:\n",
    "    print(\"The portfolio outperformed.\")\n",
    "else:\n",
    "    print(\"The portfolio underperformed.\")\n"
   ]
  },
  {
   "cell_type": "code",
   "execution_count": null,
   "id": "08dbd0ff",
   "metadata": {
    "tags": []
   },
   "outputs": [],
   "source": [
    "# Brief Explanation"
   ]
  },
  {
   "attachments": {},
   "cell_type": "markdown",
   "id": "9b4f3d7a",
   "metadata": {},
   "source": [
    "<!-- END QUESTION -->\n",
    "\n",
    "---"
   ]
  },
  {
   "attachments": {},
   "cell_type": "markdown",
   "id": "254f83fd",
   "metadata": {
    "deletable": false,
    "editable": false
   },
   "source": [
    "## Submission\n",
    "\n",
    "Make sure you have run all cells in your notebook in order before running the cell below, so that all images/graphs appear in the output. The cell below will generate a zip file for you to submit. **Please save before exporting!**"
   ]
  },
  {
   "cell_type": "code",
   "execution_count": null,
   "id": "e3fd33c3",
   "metadata": {
    "deletable": false,
    "editable": false
   },
   "outputs": [
    {
     "name": "stdout",
     "output_type": "stream",
     "text": [
      "Running your submission against local test cases...\n",
      "\n",
      "\n",
      "/Users/chengyixu/Library/Python/3.10/lib/python/site-packages/nbformat/__init__.py:93: MissingIDFieldWarning: Code cell is missing an id field, this will become a hard error in future nbformat versions. You may want to use `normalize()` on your notebooks before validations (available since nbformat 5.1.4). Previous versions of nbformat are fixing this issue transparently, and will stop doing so in the future.\n",
      "  validate(nb)\n",
      "\n"
     ]
    },
    {
     "ename": "RuntimeError",
     "evalue": "b'/Users/chengyixu/Library/Python/3.10/lib/python/site-packages/nbformat/__init__.py:93: MissingIDFieldWarning: Code cell is missing an id field, this will become a hard error in future nbformat versions. You may want to use `normalize()` on your notebooks before validations (available since nbformat 5.1.4). Previous versions of nbformat are fixing this issue transparently, and will stop doing so in the future.\\n  validate(nb)\\n'",
     "output_type": "error",
     "traceback": [
      "\u001b[0;31m---------------------------------------------------------------------------\u001b[0m",
      "\u001b[0;31mRuntimeError\u001b[0m                              Traceback (most recent call last)",
      "\u001b[1;32m/Users/chengyixu/Desktop/Exams new/0424/Final_Gradescope.ipynb Cell 96\u001b[0m in \u001b[0;36m2\n\u001b[1;32m      <a href='vscode-notebook-cell:/Users/chengyixu/Desktop/Exams%20new/0424/Final_Gradescope.ipynb#Y162sZmlsZQ%3D%3D?line=0'>1</a>\u001b[0m \u001b[39m# Save your notebook first, then run this cell to export your submission.\u001b[39;00m\n\u001b[0;32m----> <a href='vscode-notebook-cell:/Users/chengyixu/Desktop/Exams%20new/0424/Final_Gradescope.ipynb#Y162sZmlsZQ%3D%3D?line=1'>2</a>\u001b[0m grader\u001b[39m.\u001b[39;49mexport(pdf\u001b[39m=\u001b[39;49m\u001b[39mFalse\u001b[39;49;00m, run_tests\u001b[39m=\u001b[39;49m\u001b[39mTrue\u001b[39;49;00m)\n",
      "File \u001b[0;32m/Library/Frameworks/Python.framework/Versions/3.10/lib/python3.10/site-packages/otter/check/utils.py:157\u001b[0m, in \u001b[0;36mgrading_mode_disabled\u001b[0;34m(wrapped, self, args, kwargs)\u001b[0m\n\u001b[1;32m    155\u001b[0m \u001b[39mif\u001b[39;00m \u001b[39mtype\u001b[39m(\u001b[39mself\u001b[39m)\u001b[39m.\u001b[39m_grading_mode:\n\u001b[1;32m    156\u001b[0m     \u001b[39mreturn\u001b[39;00m\n\u001b[0;32m--> 157\u001b[0m \u001b[39mreturn\u001b[39;00m wrapped(\u001b[39m*\u001b[39;49margs, \u001b[39m*\u001b[39;49m\u001b[39m*\u001b[39;49mkwargs)\n",
      "File \u001b[0;32m/Library/Frameworks/Python.framework/Versions/3.10/lib/python3.10/site-packages/otter/check/utils.py:144\u001b[0m, in \u001b[0;36mincompatible_with.<locals>.incompatible\u001b[0;34m(wrapped, self, args, kwargs)\u001b[0m\n\u001b[1;32m    142\u001b[0m     \u001b[39melse\u001b[39;00m:\n\u001b[1;32m    143\u001b[0m         \u001b[39mreturn\u001b[39;00m\n\u001b[0;32m--> 144\u001b[0m \u001b[39mreturn\u001b[39;00m wrapped(\u001b[39m*\u001b[39;49margs, \u001b[39m*\u001b[39;49m\u001b[39m*\u001b[39;49mkwargs)\n",
      "File \u001b[0;32m/Library/Frameworks/Python.framework/Versions/3.10/lib/python3.10/site-packages/otter/check/utils.py:194\u001b[0m, in \u001b[0;36mlogs_event.<locals>.event_logger\u001b[0;34m(wrapped, self, args, kwargs)\u001b[0m\n\u001b[1;32m    192\u001b[0m \u001b[39mexcept\u001b[39;00m \u001b[39mException\u001b[39;00m \u001b[39mas\u001b[39;00m e:\n\u001b[1;32m    193\u001b[0m     \u001b[39mself\u001b[39m\u001b[39m.\u001b[39m_log_event(event_type, success\u001b[39m=\u001b[39m\u001b[39mFalse\u001b[39;00m, error\u001b[39m=\u001b[39me)\n\u001b[0;32m--> 194\u001b[0m     \u001b[39mraise\u001b[39;00m e\n\u001b[1;32m    196\u001b[0m \u001b[39melse\u001b[39;00m:\n\u001b[1;32m    197\u001b[0m     \u001b[39mself\u001b[39m\u001b[39m.\u001b[39m_log_event(event_type, results\u001b[39m=\u001b[39mresults, question\u001b[39m=\u001b[39mquestion, shelve_env\u001b[39m=\u001b[39mshelve_env)\n",
      "File \u001b[0;32m/Library/Frameworks/Python.framework/Versions/3.10/lib/python3.10/site-packages/otter/check/utils.py:188\u001b[0m, in \u001b[0;36mlogs_event.<locals>.event_logger\u001b[0;34m(wrapped, self, args, kwargs)\u001b[0m\n\u001b[1;32m    185\u001b[0m     question, results, shelve_env \u001b[39m=\u001b[39m wrapped(\u001b[39m*\u001b[39margs, \u001b[39m*\u001b[39m\u001b[39m*\u001b[39mkwargs)\n\u001b[1;32m    187\u001b[0m \u001b[39melse\u001b[39;00m:\n\u001b[0;32m--> 188\u001b[0m     results \u001b[39m=\u001b[39m wrapped(\u001b[39m*\u001b[39;49margs, \u001b[39m*\u001b[39;49m\u001b[39m*\u001b[39;49mkwargs)\n\u001b[1;32m    189\u001b[0m     shelve_env \u001b[39m=\u001b[39m {}\n\u001b[1;32m    190\u001b[0m     question \u001b[39m=\u001b[39m \u001b[39mNone\u001b[39;00m\n",
      "File \u001b[0;32m/Library/Frameworks/Python.framework/Versions/3.10/lib/python3.10/site-packages/otter/check/notebook.py:415\u001b[0m, in \u001b[0;36mNotebook.export\u001b[0;34m(self, nb_path, export_path, pdf, filtering, pagebreaks, files, display_link, force_save, run_tests)\u001b[0m\n\u001b[1;32m    413\u001b[0m \u001b[39mif\u001b[39;00m run_tests:\n\u001b[1;32m    414\u001b[0m     \u001b[39mprint\u001b[39m(\u001b[39m\"\u001b[39m\u001b[39mRunning your submission against local test cases...\u001b[39m\u001b[39m\\n\u001b[39;00m\u001b[39m\"\u001b[39m)\n\u001b[0;32m--> 415\u001b[0m     results \u001b[39m=\u001b[39m grade_zip_file(zip_path, nb_path, \u001b[39mself\u001b[39;49m\u001b[39m.\u001b[39;49m_path)\n\u001b[1;32m    416\u001b[0m     \u001b[39mprint\u001b[39m(\n\u001b[1;32m    417\u001b[0m         \u001b[39m\"\u001b[39m\u001b[39mYour submission received the following results when run against \u001b[39m\u001b[39m\"\u001b[39m \u001b[39m+\u001b[39m \\\n\u001b[1;32m    418\u001b[0m         \u001b[39m\"\u001b[39m\u001b[39mavailable test cases:\u001b[39m\u001b[39m\\n\u001b[39;00m\u001b[39m\\n\u001b[39;00m\u001b[39m\"\u001b[39m \u001b[39m+\u001b[39m indent(results\u001b[39m.\u001b[39msummary(), \u001b[39m\"\u001b[39m\u001b[39m    \u001b[39m\u001b[39m\"\u001b[39m))\n\u001b[1;32m    420\u001b[0m \u001b[39mif\u001b[39;00m display_link:\n\u001b[1;32m    421\u001b[0m     \u001b[39m# create and display output HTML\u001b[39;00m\n",
      "File \u001b[0;32m/Library/Frameworks/Python.framework/Versions/3.10/lib/python3.10/site-packages/otter/check/utils.py:82\u001b[0m, in \u001b[0;36mgrade_zip_file\u001b[0;34m(zip_path, nb_arcname, tests_dir)\u001b[0m\n\u001b[1;32m     79\u001b[0m \u001b[39mprint\u001b[39m(results\u001b[39m.\u001b[39mstderr\u001b[39m.\u001b[39mdecode(\u001b[39m\"\u001b[39m\u001b[39mutf-8\u001b[39m\u001b[39m\"\u001b[39m))\n\u001b[1;32m     81\u001b[0m \u001b[39mif\u001b[39;00m results\u001b[39m.\u001b[39mstderr:\n\u001b[0;32m---> 82\u001b[0m     \u001b[39mraise\u001b[39;00m \u001b[39mRuntimeError\u001b[39;00m(results\u001b[39m.\u001b[39mstderr)\n\u001b[1;32m     84\u001b[0m \u001b[39mwith\u001b[39;00m \u001b[39mopen\u001b[39m(results_path, \u001b[39m\"\u001b[39m\u001b[39mrb\u001b[39m\u001b[39m\"\u001b[39m) \u001b[39mas\u001b[39;00m f:\n\u001b[1;32m     85\u001b[0m     results \u001b[39m=\u001b[39m dill\u001b[39m.\u001b[39mload(f)\n",
      "\u001b[0;31mRuntimeError\u001b[0m: b'/Users/chengyixu/Library/Python/3.10/lib/python/site-packages/nbformat/__init__.py:93: MissingIDFieldWarning: Code cell is missing an id field, this will become a hard error in future nbformat versions. You may want to use `normalize()` on your notebooks before validations (available since nbformat 5.1.4). Previous versions of nbformat are fixing this issue transparently, and will stop doing so in the future.\\n  validate(nb)\\n'"
     ]
    }
   ],
   "source": [
    "# Save your notebook first, then run this cell to export your submission.\n",
    "grader.export(pdf=False, run_tests=True)"
   ]
  },
  {
   "attachments": {},
   "cell_type": "markdown",
   "id": "86bfd198",
   "metadata": {},
   "source": [
    " "
   ]
  }
 ],
 "metadata": {
  "kernelspec": {
   "display_name": "Python 3 (ipykernel)",
   "language": "python",
   "name": "python3"
  },
  "language_info": {
   "codemirror_mode": {
    "name": "ipython",
    "version": 3
   },
   "file_extension": ".py",
   "mimetype": "text/x-python",
   "name": "python",
   "nbconvert_exporter": "python",
   "pygments_lexer": "ipython3",
   "version": "3.10.0"
  },
  "otter": {
   "OK_FORMAT": true,
   "tests": {
    "q01": {
     "name": "q01",
     "points": 5,
     "suites": [
      {
       "cases": [
        {
         "code": ">>> type(index_mon)==pd.core.frame.DataFrame\nTrue",
         "hidden": false,
         "locked": false,
         "points": 2
        },
        {
         "code": ">>> index_mon.shape == (58, 2) or index_mon.shape == (59, 2)\nTrue",
         "hidden": false,
         "locked": false,
         "points": 1
        },
        {
         "code": ">>> np.allclose(np.sort(index_mon.sum().values),np.sort(np.array([0.65825754,1.13901738])))\nTrue",
         "hidden": false,
         "locked": false,
         "points": 2
        }
       ],
       "scored": true,
       "setup": "",
       "teardown": "",
       "type": "doctest"
      }
     ]
    },
    "q03": {
     "name": "q03",
     "points": 5,
     "suites": [
      {
       "cases": [
        {
         "code": ">>> type(ff_factors)==pd.core.frame.DataFrame\nTrue",
         "hidden": false,
         "locked": false,
         "points": 1.5
        },
        {
         "code": ">>> ff_factors.shape == (58,5)\nTrue",
         "hidden": false,
         "locked": false,
         "points": 2
        },
        {
         "code": ">>> np.allclose(np.sort(ff_factors.sum().values),np.sort(np.array([-0.4593,0.0161,0.0519,0.1137,0.8438])))\nTrue",
         "hidden": false,
         "locked": false,
         "points": 1.5
        }
       ],
       "scored": true,
       "setup": "",
       "teardown": "",
       "type": "doctest"
      }
     ]
    },
    "q04": {
     "name": "q04",
     "points": 5,
     "suites": [
      {
       "cases": [
        {
         "code": ">>> index1_SR!=np.nan\nTrue",
         "hidden": false,
         "locked": false,
         "points": 1
        },
        {
         "code": ">>> index2_SR!=np.nan\nTrue",
         "hidden": false,
         "locked": false,
         "points": 1
        }
       ],
       "scored": true,
       "setup": "",
       "teardown": "",
       "type": "doctest"
      }
     ]
    },
    "q08": {
     "name": "q08",
     "points": 5,
     "suites": [
      {
       "cases": [
        {
         "code": ">>> type(returns_pt2)==pd.core.frame.DataFrame\nTrue",
         "hidden": false,
         "locked": false,
         "points": 2
        },
        {
         "code": ">>> returns_pt2.shape == (61,5) or returns_pt2.shape == (60,5)\nTrue",
         "hidden": false,
         "locked": false,
         "points": 1
        },
        {
         "code": ">>> np.allclose(np.sort(returns_pt2.sum().values),np.sort(np.array([0.31986158,0.33935759,0.79796589,1.17750704,1.34293645])))\nTrue",
         "hidden": false,
         "locked": false,
         "points": 2
        }
       ],
       "scored": true,
       "setup": "",
       "teardown": "",
       "type": "doctest"
      }
     ]
    },
    "q09": {
     "name": "q09",
     "points": 5,
     "suites": [
      {
       "cases": [
        {
         "code": ">>> type(rf_rate)==pd.core.frame.DataFrame or type(rf_rate)==pandas.core.series.Series\nTrue",
         "hidden": false,
         "locked": false,
         "points": 2
        },
        {
         "code": ">>> rf_rate.shape == (60,1) or rf_rate.shape == (60,)\nTrue",
         "hidden": false,
         "locked": false,
         "points": 1
        },
        {
         "code": ">>> np.allclose(rf_rate.sum().values,np.array([0.0028])) or np.allclose(rf_rate.sum(),0.0028)\nTrue",
         "hidden": false,
         "locked": false,
         "points": 1.5
        }
       ],
       "scored": true,
       "setup": "",
       "teardown": "",
       "type": "doctest"
      }
     ]
    },
    "q10": {
     "name": "q10",
     "points": 5,
     "suites": [
      {
       "cases": [
        {
         "code": ">>> weights.shape == (5,1)\nTrue",
         "hidden": false,
         "locked": false,
         "points": 2
        },
        {
         "code": ">>> np.allclose(weights.std().values,np.array([0.23912996]))\nTrue",
         "hidden": false,
         "locked": false,
         "points": 3
        }
       ],
       "scored": true,
       "setup": "",
       "teardown": "",
       "type": "doctest"
      }
     ]
    },
    "q11": {
     "name": "q11",
     "points": 5,
     "suites": [
      {
       "cases": [
        {
         "code": ">>> weights.shape == (5,2)\nTrue",
         "hidden": false,
         "locked": false,
         "points": 2
        },
        {
         "code": ">>> np.allclose(np.sort(weights.std().values),np.sort(np.array([0.18628195, 0.23912996])))\nTrue",
         "hidden": false,
         "locked": false,
         "points": 3
        }
       ],
       "scored": true,
       "setup": "",
       "teardown": "",
       "type": "doctest"
      }
     ]
    },
    "q12": {
     "name": "q12",
     "points": 5,
     "suites": [
      {
       "cases": [
        {
         "code": ">>> type(prices)==pd.core.frame.DataFrame\nTrue",
         "hidden": false,
         "locked": false,
         "points": 2
        },
        {
         "code": ">>> prices.shape == (59,5) or prices.shape == (58,5)\nTrue",
         "hidden": false,
         "locked": false,
         "points": 1
        },
        {
         "code": ">>> np.allclose(np.sort(prices.sum().values),np.sort(np.array([2326.25641251,6023.49720001,7462.45547485,7877.95854187,11898.8943634])))\nTrue",
         "hidden": false,
         "locked": false,
         "points": 2
        }
       ],
       "scored": true,
       "setup": "",
       "teardown": "",
       "type": "doctest"
      }
     ]
    },
    "q13": {
     "name": "q13",
     "points": 5,
     "suites": [
      {
       "cases": [
        {
         "code": ">>> type(investments)==pd.core.frame.DataFrame\nTrue",
         "hidden": false,
         "locked": false,
         "points": 2
        },
        {
         "code": ">>> investments.shape == (59,5) or investments.shape == (58,5)\nTrue",
         "hidden": false,
         "locked": false,
         "points": 1
        },
        {
         "code": ">>> np.allclose(np.sort(investments.sum().values),np.sort(np.array([74.77171135,94.20542144,98.35957192,100.0358243,102.90633503])))\nTrue",
         "hidden": false,
         "locked": false,
         "points": 2
        }
       ],
       "scored": true,
       "setup": "",
       "teardown": "",
       "type": "doctest"
      }
     ]
    },
    "q14": {
     "name": "q14",
     "points": 5,
     "suites": [
      {
       "cases": [
        {
         "code": ">>> type(returns)==pd.core.frame.DataFrame\nTrue",
         "hidden": false,
         "locked": false,
         "points": 2
        },
        {
         "code": ">>> returns.shape == (59,5) or returns.shape == (58,5)\nTrue",
         "hidden": false,
         "locked": false,
         "points": 1
        },
        {
         "code": ">>> np.allclose(np.sort(returns.sum().values),np.sort(np.array([0.70184885,0.91500946,0.95310957,1.08387012,1.25443217])))\nTrue",
         "hidden": false,
         "locked": false,
         "points": 2
        }
       ],
       "scored": true,
       "setup": "",
       "teardown": "",
       "type": "doctest"
      }
     ]
    },
    "q15": {
     "name": "q15",
     "points": 5,
     "suites": [
      {
       "cases": [
        {
         "code": ">>> stock_ans15!=np.nan\nTrue",
         "hidden": false,
         "locked": false,
         "points": 1
        },
        {
         "code": ">>> ret_ans15!=np.nan\nTrue",
         "hidden": false,
         "locked": false,
         "points": 1
        }
       ],
       "scored": true,
       "setup": "",
       "teardown": "",
       "type": "doctest"
      }
     ]
    },
    "q16": {
     "name": "q16",
     "points": 5,
     "suites": [
      {
       "cases": [
        {
         "code": ">>> portfolios.shape == (58, 3)\nTrue",
         "hidden": false,
         "locked": false,
         "points": 2
        }
       ],
       "scored": true,
       "setup": "",
       "teardown": "",
       "type": "doctest"
      }
     ]
    },
    "q18": {
     "name": "q18",
     "points": 5,
     "suites": [
      {
       "cases": [
        {
         "code": ">>> port18!=np.nan\nTrue",
         "hidden": false,
         "locked": false,
         "points": 1
        },
        {
         "code": ">>> ret18!=np.nan\nTrue",
         "hidden": false,
         "locked": false,
         "points": 1
        }
       ],
       "scored": true,
       "setup": "",
       "teardown": "",
       "type": "doctest"
      }
     ]
    },
    "q19": {
     "name": "q19",
     "points": 5,
     "suites": [
      {
       "cases": [
        {
         "code": ">>> port19!=np.nan\nTrue",
         "hidden": false,
         "locked": false,
         "points": 1
        },
        {
         "code": ">>> sr19!=np.nan\nTrue",
         "hidden": false,
         "locked": false,
         "points": 1
        }
       ],
       "scored": true,
       "setup": "",
       "teardown": "",
       "type": "doctest"
      }
     ]
    }
   }
  }
 },
 "nbformat": 4,
 "nbformat_minor": 5
}
